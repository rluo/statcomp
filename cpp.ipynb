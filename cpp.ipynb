{
 "cells": [
  {
   "cell_type": "markdown",
   "metadata": {},
   "source": [
    "# Compare CPP compiled vs R scripts"
   ]
  },
  {
   "cell_type": "markdown",
   "metadata": {},
   "source": [
    "C++ code needs to be compiled before running. We will use the docker image for compiling and running the following c++ code."
   ]
  },
  {
   "cell_type": "markdown",
   "metadata": {},
   "source": [
    "## C++ Implementation"
   ]
  },
  {
   "cell_type": "markdown",
   "metadata": {},
   "source": [
    "<img src=\"./estimate_pi.png\">"
   ]
  },
  {
   "cell_type": "code",
   "execution_count": 7,
   "metadata": {},
   "outputs": [
    {
     "data": {
      "text/html": [],
      "text/latex": [],
      "text/markdown": [],
      "text/plain": [
       "character(0)"
      ]
     },
     "metadata": {},
     "output_type": "display_data"
    }
   ],
   "source": [
    "## compile\n",
    "system(\"docker run --rm -v  $PWD:/data -w /data rossiluo/autograder g++ -O2 -o estimate_pi estimate_pi.cpp -std=c++17\", intern = TRUE)"
   ]
  },
  {
   "cell_type": "code",
   "execution_count": 9,
   "metadata": {},
   "outputs": [
    {
     "data": {
      "text/html": [
       "<style>\n",
       ".list-inline {list-style: none; margin:0; padding: 0}\n",
       ".list-inline>li {display: inline-block}\n",
       ".list-inline>li:not(:last-child)::after {content: \"\\00b7\"; padding: 0 .5ex}\n",
       "</style>\n",
       "<ol class=list-inline><li>'Estimate of Pi: 3.1568'</li><li>'Time taken: 0.000177806 seconds'</li></ol>\n"
      ],
      "text/latex": [
       "\\begin{enumerate*}\n",
       "\\item 'Estimate of Pi: 3.1568'\n",
       "\\item 'Time taken: 0.000177806 seconds'\n",
       "\\end{enumerate*}\n"
      ],
      "text/markdown": [
       "1. 'Estimate of Pi: 3.1568'\n",
       "2. 'Time taken: 0.000177806 seconds'\n",
       "\n",
       "\n"
      ],
      "text/plain": [
       "[1] \"Estimate of Pi: 3.1568\"          \"Time taken: 0.000177806 seconds\""
      ]
     },
     "metadata": {},
     "output_type": "display_data"
    }
   ],
   "source": [
    "system(\"docker run --rm -v  $PWD:/data -w /data rossiluo/autograder ./estimate_pi 10000\", intern=TRUE)"
   ]
  },
  {
   "cell_type": "markdown",
   "metadata": {},
   "source": [
    "## R implementation"
   ]
  },
  {
   "cell_type": "code",
   "execution_count": 10,
   "metadata": {},
   "outputs": [],
   "source": [
    "estimate_pi <- function(n, seed=100) {\n",
    "  count <- 0\n",
    "  set.seed(3*seed*n)\n",
    "  for (i in 1:n) {\n",
    "    x <- runif(1, -1, 1)\n",
    "    y <- runif(1, -1, 1)\n",
    "    if (x^2 + y^2 <= 1) {\n",
    "      count <- count + 1\n",
    "    }\n",
    "  }\n",
    "  4 * count / n\n",
    "}\n",
    "\n",
    "\n",
    "# Test\n",
    "n <- 10000 # per run"
   ]
  },
  {
   "cell_type": "code",
   "execution_count": 11,
   "metadata": {},
   "outputs": [
    {
     "data": {
      "text/plain": [
       "   user  system elapsed \n",
       "  0.039   0.012   0.051 "
      ]
     },
     "metadata": {},
     "output_type": "display_data"
    }
   ],
   "source": [
    "system.time( re <- estimate_pi(n) )"
   ]
  },
  {
   "cell_type": "code",
   "execution_count": 12,
   "metadata": {},
   "outputs": [
    {
     "data": {
      "text/html": [
       "3.1392"
      ],
      "text/latex": [
       "3.1392"
      ],
      "text/markdown": [
       "3.1392"
      ],
      "text/plain": [
       "[1] 3.1392"
      ]
     },
     "metadata": {},
     "output_type": "display_data"
    }
   ],
   "source": [
    "re"
   ]
  },
  {
   "cell_type": "markdown",
   "metadata": {},
   "source": [
    "### speed-up via vector operations"
   ]
  },
  {
   "cell_type": "code",
   "execution_count": 13,
   "metadata": {},
   "outputs": [
    {
     "data": {
      "text/plain": [
       "   user  system elapsed \n",
       "      0       0       0 "
      ]
     },
     "metadata": {},
     "output_type": "display_data"
    }
   ],
   "source": [
    "estimate_pi <- function(n, seed=100) {\n",
    "  count <- 0\n",
    "  set.seed(3*seed*n)\n",
    "  x <- runif(1, -1, n)\n",
    "  y <- runif(1, -1, n)\n",
    "  count <- sum( x**2 + y**2 <= 1 )\n",
    "  4 * count / n\n",
    "}\n",
    "system.time( re <- estimate_pi(n) )"
   ]
  },
  {
   "cell_type": "code",
   "execution_count": 21,
   "metadata": {},
   "outputs": [
    {
     "data": {
      "text/plain": [
       "Time difference of 0.00168395 secs"
      ]
     },
     "metadata": {},
     "output_type": "display_data"
    }
   ],
   "source": [
    "tic <- Sys.time()\n",
    "re <- estimate_pi(n)\n",
    "Sys.time() - tic"
   ]
  },
  {
   "cell_type": "code",
   "execution_count": 22,
   "metadata": {},
   "outputs": [],
   "source": [
    "library(compiler)\n",
    "estimate_pi_bin <- cmpfun(estimate_pi)"
   ]
  },
  {
   "cell_type": "code",
   "execution_count": 23,
   "metadata": {},
   "outputs": [
    {
     "data": {
      "text/plain": [
       "Time difference of 0.001569986 secs"
      ]
     },
     "metadata": {},
     "output_type": "display_data"
    }
   ],
   "source": [
    "tic <- Sys.time()\n",
    "re <- estimate_pi_bin(n)\n",
    "Sys.time() - tic"
   ]
  },
  {
   "cell_type": "markdown",
   "metadata": {},
   "source": [
    "However, more memory will be used by this implementation."
   ]
  },
  {
   "cell_type": "code",
   "execution_count": null,
   "metadata": {},
   "outputs": [],
   "source": []
  }
 ],
 "metadata": {
  "kernelspec": {
   "display_name": "R",
   "language": "R",
   "name": "ir"
  },
  "language_info": {
   "codemirror_mode": "r",
   "file_extension": ".r",
   "mimetype": "text/x-r-source",
   "name": "R",
   "pygments_lexer": "r",
   "version": "4.0.3"
  }
 },
 "nbformat": 4,
 "nbformat_minor": 4
}
