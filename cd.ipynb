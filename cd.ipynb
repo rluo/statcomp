{
 "cells": [
  {
   "cell_type": "code",
   "execution_count": 1,
   "metadata": {},
   "outputs": [],
   "source": [
    "## check slides for proof\n",
    "soft_thresholding <- function(x,a){\n",
    "    ## This could be done more efficiently using vector multiplication\n",
    "    ## See the forumula in slides\n",
    "    ##  sign(x)*pmax(abs(x) - a, 0)\n",
    "    result <- numeric(length(x))\n",
    "    result[which(x > a)] <- x[which(x > a)] - a\n",
    "    result[which(x < -a)] <- x[which(x < -a)] + a\n",
    "    return(result)\n",
    "}          \n",
    "\n"
   ]
  },
  {
   "cell_type": "code",
   "execution_count": 2,
   "metadata": {},
   "outputs": [],
   "source": [
    "lasso_kkt_check <- function(X,y,beta,lambda, tol=1e-3){\n",
    "    ## check convergence \n",
    "    beta <- as.matrix(beta); X <- as.matrix(X)\n",
    "    ## Assuming no intercepts \n",
    "    G <- t(X)%*%(y-X%*%beta)/length(y)\n",
    "    ix <- which(beta == 0 )\n",
    "    iy <- which(beta != 0)\n",
    "    if (any(abs(G[ix]) > (lambda + tol) )) { return(pass=0) }\n",
    "    if (any(abs( G[iy] - lambda*sign(beta[iy] ) ) > tol)) { return(pass=0) }  \n",
    "    return(pass=1)\n",
    "}        \n",
    "\n",
    "lasso_obj <- function(X, y, beta, lambda) {\n",
    "    (1/2)*(1/length(y))*norm(y - X%*%beta,\"F\")^2 + lambda*sum(abs(beta))\n",
    "}"
   ]
  },
  {
   "cell_type": "code",
   "execution_count": 3,
   "metadata": {},
   "outputs": [],
   "source": [
    "lasso.cd <- function(X,y,beta,lambda,tol=1e-6,maxiter=1000,quiet=FALSE){\n",
    "    # note that the LS part  in this function is the one in slides divided by length(y) = n \n",
    "    ## Or equivalently  lambda here = n * lambda in class\n",
    "    beta <- as.matrix(beta); X <- as.matrix(X)\n",
    "    obj <- numeric(length=(maxiter+1))\n",
    "    betalist <- list(length=(maxiter+1))\n",
    "    betalist[[1]] <- beta\n",
    "    for (j in 1:maxiter){\n",
    "        for (k in 1:length(beta)){\n",
    "            r <- y - X[,-k]%*%beta[-k]\n",
    "            beta[k] <- (1/norm(as.matrix(X[,k]),\"F\")^2)*soft_thresholding(t(r)%*%X[,k],length(y)*lambda)\n",
    "        }\n",
    "        betalist[[(j+1)]] <- beta\n",
    "        obj[j] <- lasso_obj(X, y, beta, lambda)\n",
    "        if (norm(betalist[[j]] - beta,\"F\") < tol) { break }\n",
    "    } \n",
    "    check <- lasso_kkt_check(X,y,beta,lambda) \n",
    "    if (quiet==FALSE){\n",
    "        if (check==1) {\n",
    "            cat(noquote(\"Minimum obtained.\\n\"))\n",
    "        }\n",
    "      else { cat(noquote(\"Minimum not obtained.\\n\")) } \n",
    "    }\n",
    "    return(list(obj=obj[1:j],beta=beta)) \n",
    "}            "
   ]
  },
  {
   "cell_type": "markdown",
   "metadata": {},
   "source": [
    "# Simulate Data"
   ]
  },
  {
   "cell_type": "code",
   "execution_count": 4,
   "metadata": {},
   "outputs": [],
   "source": [
    "set.seed(100)\n",
    "n <- 50\n",
    "p <- 400\n",
    "X <- matrix(rnorm(n*p), n, p)\n",
    "b <- rep(0, 400)\n",
    "b[301:305] <- c(5:1)*2\n",
    "y <-  X%*%b + rnorm(n)\n",
    "ynew <-  X%*%b + rnorm(n)      "
   ]
  },
  {
   "cell_type": "code",
   "execution_count": 6,
   "metadata": {},
   "outputs": [
    {
     "data": {
      "text/plain": [
       "   user  system elapsed \n",
       "  0.005   0.000   0.005 "
      ]
     },
     "metadata": {},
     "output_type": "display_data"
    }
   ],
   "source": [
    "library(glmnet) \n",
    "system.time( fit <- glmnet(X, y, intercept=F, standardize=F, lambda=1) )"
   ]
  },
  {
   "cell_type": "code",
   "execution_count": 7,
   "metadata": {},
   "outputs": [
    {
     "name": "stdout",
     "output_type": "stream",
     "text": [
      "Minimum obtained.\n"
     ]
    },
    {
     "data": {
      "text/plain": [
       "   user  system elapsed \n",
       "  1.700   0.449   2.157 "
      ]
     },
     "metadata": {},
     "output_type": "display_data"
    }
   ],
   "source": [
    "system.time( re <- lasso.cd(X, y, rep(0, 400), 1) ) "
   ]
  },
  {
   "cell_type": "markdown",
   "metadata": {},
   "source": [
    "## Comparison"
   ]
  },
  {
   "cell_type": "code",
   "execution_count": 8,
   "metadata": {},
   "outputs": [],
   "source": [
    "beta_glmnet <- as.numeric(coef(fit)[-1] )"
   ]
  },
  {
   "cell_type": "code",
   "execution_count": 9,
   "metadata": {},
   "outputs": [
    {
     "data": {
      "text/html": [
       "0.00197478375593746"
      ],
      "text/latex": [
       "0.00197478375593746"
      ],
      "text/markdown": [
       "0.00197478375593746"
      ],
      "text/plain": [
       "[1] 0.001974784"
      ]
     },
     "metadata": {},
     "output_type": "display_data"
    }
   ],
   "source": [
    "max( abs( beta_glmnet - re$beta )  ) "
   ]
  },
  {
   "cell_type": "markdown",
   "metadata": {},
   "source": [
    "Difference between our algorithm and glmnet is small"
   ]
  },
  {
   "cell_type": "code",
   "execution_count": 10,
   "metadata": {},
   "outputs": [
    {
     "data": {
      "text/html": [
       "26.0169477346224"
      ],
      "text/latex": [
       "26.0169477346224"
      ],
      "text/markdown": [
       "26.0169477346224"
      ],
      "text/plain": [
       "[1] 26.01695"
      ]
     },
     "metadata": {},
     "output_type": "display_data"
    }
   ],
   "source": [
    "lasso_obj( X, y, beta_glmnet, 1 )"
   ]
  },
  {
   "cell_type": "code",
   "execution_count": 11,
   "metadata": {},
   "outputs": [
    {
     "data": {
      "text/html": [
       "26.016945085482"
      ],
      "text/latex": [
       "26.016945085482"
      ],
      "text/markdown": [
       "26.016945085482"
      ],
      "text/plain": [
       "[1] 26.01695"
      ]
     },
     "metadata": {},
     "output_type": "display_data"
    }
   ],
   "source": [
    "lasso_obj( X, y, re$beta, 1 )"
   ]
  },
  {
   "cell_type": "markdown",
   "metadata": {},
   "source": [
    "The objective function values are almost the same."
   ]
  },
  {
   "cell_type": "code",
   "execution_count": 12,
   "metadata": {},
   "outputs": [
    {
     "data": {
      "text/html": [
       "-2.64914042702458e-06"
      ],
      "text/latex": [
       "-2.64914042702458e-06"
      ],
      "text/markdown": [
       "-2.64914042702458e-06"
      ],
      "text/plain": [
       "[1] -2.64914e-06"
      ]
     },
     "metadata": {},
     "output_type": "display_data"
    }
   ],
   "source": [
    "lasso_obj( X, y, re$beta, 1 ) - lasso_obj( X, y, beta_glmnet, 1 )"
   ]
  },
  {
   "cell_type": "markdown",
   "metadata": {},
   "source": [
    "In fact, our solution is better than glmnet."
   ]
  },
  {
   "cell_type": "markdown",
   "metadata": {},
   "source": [
    "## Warm start"
   ]
  },
  {
   "cell_type": "code",
   "execution_count": 39,
   "metadata": {},
   "outputs": [
    {
     "name": "stdout",
     "output_type": "stream",
     "text": [
      "Minimum obtained.\n"
     ]
    },
    {
     "data": {
      "text/plain": [
       "   user  system elapsed \n",
       "  1.180   0.259   1.439 "
      ]
     },
     "metadata": {},
     "output_type": "display_data"
    }
   ],
   "source": [
    "system.time( re <- lasso.cd(X, y, re$beta, 0.9) ) "
   ]
  },
  {
   "cell_type": "code",
   "execution_count": 40,
   "metadata": {},
   "outputs": [
    {
     "name": "stdout",
     "output_type": "stream",
     "text": [
      "Minimum obtained.\n"
     ]
    },
    {
     "data": {
      "text/plain": [
       "   user  system elapsed \n",
       "  1.824   0.406   2.230 "
      ]
     },
     "metadata": {},
     "output_type": "display_data"
    }
   ],
   "source": [
    "system.time( re <- lasso.cd(X, y, rep(0, 400), 0.9) ) "
   ]
  },
  {
   "cell_type": "markdown",
   "metadata": {},
   "source": [
    "Speed-up due to better initialization of $\\beta$"
   ]
  },
  {
   "cell_type": "markdown",
   "metadata": {},
   "source": [
    "# Loss"
   ]
  },
  {
   "cell_type": "code",
   "execution_count": 10,
   "metadata": {},
   "outputs": [
    {
     "name": "stdout",
     "output_type": "stream",
     "text": [
      "Minimum obtained.\n"
     ]
    },
    {
     "data": {
      "text/plain": [
       "   user  system elapsed \n",
       "  1.544   0.359   1.903 "
      ]
     },
     "metadata": {},
     "output_type": "display_data"
    },
    {
     "data": {
      "text/html": [
       "<style>\n",
       ".list-inline {list-style: none; margin:0; padding: 0}\n",
       ".list-inline>li {display: inline-block}\n",
       ".list-inline>li:not(:last-child)::after {content: \"\\00b7\"; padding: 0 .5ex}\n",
       "</style>\n",
       "<ol class=list-inline><li>66.1177041292094</li><li>48.9424595043008</li><li>40.6077188753276</li><li>35.4671078598865</li><li>31.8436079459173</li><li>29.1754096455198</li><li>27.392908544562</li><li>26.4534493385491</li><li>26.1714353606474</li><li>26.0718439658568</li><li>26.0373918465921</li><li>26.0247110883864</li><li>26.0198248142475</li><li>26.0179224870133</li><li>26.0172480408156</li><li>26.0170393708468</li><li>26.0169743177891</li><li>26.0169540026673</li><li>26.0169477746122</li><li>26.0169458907668</li><li>26.0169453255289</li><li>26.0169451568082</li><li>26.0169451066262</li><li>26.0169450917393</li><li>26.0169450873313</li><li>26.016945086028</li><li>26.016945085643</li><li>26.0169450855294</li><li>26.0169450854959</li><li>26.016945085486</li><li>26.0169450854831</li><li>26.0169450854822</li><li>26.016945085482</li></ol>\n"
      ],
      "text/latex": [
       "\\begin{enumerate*}\n",
       "\\item 66.1177041292094\n",
       "\\item 48.9424595043008\n",
       "\\item 40.6077188753276\n",
       "\\item 35.4671078598865\n",
       "\\item 31.8436079459173\n",
       "\\item 29.1754096455198\n",
       "\\item 27.392908544562\n",
       "\\item 26.4534493385491\n",
       "\\item 26.1714353606474\n",
       "\\item 26.0718439658568\n",
       "\\item 26.0373918465921\n",
       "\\item 26.0247110883864\n",
       "\\item 26.0198248142475\n",
       "\\item 26.0179224870133\n",
       "\\item 26.0172480408156\n",
       "\\item 26.0170393708468\n",
       "\\item 26.0169743177891\n",
       "\\item 26.0169540026673\n",
       "\\item 26.0169477746122\n",
       "\\item 26.0169458907668\n",
       "\\item 26.0169453255289\n",
       "\\item 26.0169451568082\n",
       "\\item 26.0169451066262\n",
       "\\item 26.0169450917393\n",
       "\\item 26.0169450873313\n",
       "\\item 26.016945086028\n",
       "\\item 26.016945085643\n",
       "\\item 26.0169450855294\n",
       "\\item 26.0169450854959\n",
       "\\item 26.016945085486\n",
       "\\item 26.0169450854831\n",
       "\\item 26.0169450854822\n",
       "\\item 26.016945085482\n",
       "\\end{enumerate*}\n"
      ],
      "text/markdown": [
       "1. 66.1177041292094\n",
       "2. 48.9424595043008\n",
       "3. 40.6077188753276\n",
       "4. 35.4671078598865\n",
       "5. 31.8436079459173\n",
       "6. 29.1754096455198\n",
       "7. 27.392908544562\n",
       "8. 26.4534493385491\n",
       "9. 26.1714353606474\n",
       "10. 26.0718439658568\n",
       "11. 26.0373918465921\n",
       "12. 26.0247110883864\n",
       "13. 26.0198248142475\n",
       "14. 26.0179224870133\n",
       "15. 26.0172480408156\n",
       "16. 26.0170393708468\n",
       "17. 26.0169743177891\n",
       "18. 26.0169540026673\n",
       "19. 26.0169477746122\n",
       "20. 26.0169458907668\n",
       "21. 26.0169453255289\n",
       "22. 26.0169451568082\n",
       "23. 26.0169451066262\n",
       "24. 26.0169450917393\n",
       "25. 26.0169450873313\n",
       "26. 26.016945086028\n",
       "27. 26.016945085643\n",
       "28. 26.0169450855294\n",
       "29. 26.0169450854959\n",
       "30. 26.016945085486\n",
       "31. 26.0169450854831\n",
       "32. 26.0169450854822\n",
       "33. 26.016945085482\n",
       "\n",
       "\n"
      ],
      "text/plain": [
       " [1] 66.11770 48.94246 40.60772 35.46711 31.84361 29.17541 27.39291 26.45345\n",
       " [9] 26.17144 26.07184 26.03739 26.02471 26.01982 26.01792 26.01725 26.01704\n",
       "[17] 26.01697 26.01695 26.01695 26.01695 26.01695 26.01695 26.01695 26.01695\n",
       "[25] 26.01695 26.01695 26.01695 26.01695 26.01695 26.01695 26.01695 26.01695\n",
       "[33] 26.01695"
      ]
     },
     "metadata": {},
     "output_type": "display_data"
    }
   ],
   "source": [
    "system.time( re <- lasso.cd(X, y, rep(0, 400), 1) ) \n",
    "re$obj"
   ]
  },
  {
   "cell_type": "code",
   "execution_count": 12,
   "metadata": {},
   "outputs": [
    {
     "data": {
      "image/png": "[encoded data removed]",
      "text/plain": [
       "plot without title"
      ]
     },
     "metadata": {
      "image/png": {
       "height": 420,
       "width": 420
      }
     },
     "output_type": "display_data"
    }
   ],
   "source": [
    "plot(re$obj, type=\"l\")"
   ]
  },
  {
   "cell_type": "markdown",
   "metadata": {},
   "source": [
    "Objective function decays as expected"
   ]
  }
 ],
 "metadata": {
  "kernelspec": {
   "display_name": "R",
   "language": "R",
   "name": "ir"
  },
  "language_info": {
   "codemirror_mode": "r",
   "file_extension": ".r",
   "mimetype": "text/x-r-source",
   "name": "R",
   "pygments_lexer": "r",
   "version": "4.0.3"
  },
  "toc": {
   "base_numbering": 1,
   "nav_menu": {},
   "number_sections": true,
   "sideBar": true,
   "skip_h1_title": false,
   "title_cell": "Table of Contents",
   "title_sidebar": "Contents",
   "toc_cell": false,
   "toc_position": {},
   "toc_section_display": true,
   "toc_window_display": false
  }
 },
 "nbformat": 4,
 "nbformat_minor": 4
}
