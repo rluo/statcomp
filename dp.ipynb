{
 "cells": [
  {
   "cell_type": "code",
   "execution_count": 1,
   "metadata": {},
   "outputs": [],
   "source": [
    "library(microbenchmark)"
   ]
  },
  {
   "cell_type": "markdown",
   "metadata": {},
   "source": [
    "# Naive Top-Down Rod Cutting Algorithm"
   ]
  },
  {
   "cell_type": "code",
   "execution_count": 2,
   "metadata": {},
   "outputs": [],
   "source": [
    "cut_rod_naive <- function(p, n) {\n",
    "    if (n == 0) return(0)\n",
    "    q = - Inf\n",
    "    for (i in 1:n) {\n",
    "        q = max(q, p[i] + cut_rod_naive(p, n-i))\n",
    "    }\n",
    "    return(q)\n",
    "}"
   ]
  },
  {
   "cell_type": "code",
   "execution_count": 3,
   "metadata": {},
   "outputs": [
    {
     "data": {
      "text/html": [
       "<table>\n",
       "<caption>A matrix: 2 × 10 of type dbl</caption>\n",
       "<tbody>\n",
       "\t<tr><th scope=row></th><td>1</td><td>2</td><td>3</td><td>4</td><td> 5</td><td> 6</td><td> 7</td><td> 8</td><td> 9</td><td>10</td></tr>\n",
       "\t<tr><th scope=row>p</th><td>1</td><td>5</td><td>8</td><td>9</td><td>10</td><td>17</td><td>17</td><td>20</td><td>24</td><td>30</td></tr>\n",
       "</tbody>\n",
       "</table>\n"
      ],
      "text/latex": [
       "A matrix: 2 × 10 of type dbl\n",
       "\\begin{tabular}{r|llllllllll}\n",
       "\t & 1 & 2 & 3 & 4 &  5 &  6 &  7 &  8 &  9 & 10\\\\\n",
       "\tp & 1 & 5 & 8 & 9 & 10 & 17 & 17 & 20 & 24 & 30\\\\\n",
       "\\end{tabular}\n"
      ],
      "text/markdown": [
       "\n",
       "A matrix: 2 × 10 of type dbl\n",
       "\n",
       "| <!----> | 1 | 2 | 3 | 4 |  5 |  6 |  7 |  8 |  9 | 10 |\n",
       "| p | 1 | 5 | 8 | 9 | 10 | 17 | 17 | 20 | 24 | 30 |\n",
       "\n"
      ],
      "text/plain": [
       "  [,1] [,2] [,3] [,4] [,5] [,6] [,7] [,8] [,9] [,10]\n",
       "  1    2    3    4     5    6    7    8    9   10   \n",
       "p 1    5    8    9    10   17   17   20   24   30   "
      ]
     },
     "metadata": {},
     "output_type": "display_data"
    }
   ],
   "source": [
    "p <- c(1, 5, 8, 9, 10, 17, 17, 20, 24, 30)\n",
    "rbind(1:10, p)"
   ]
  },
  {
   "cell_type": "code",
   "execution_count": 4,
   "metadata": {},
   "outputs": [
    {
     "data": {
      "text/html": [
       "13"
      ],
      "text/latex": [
       "13"
      ],
      "text/markdown": [
       "13"
      ],
      "text/plain": [
       "[1] 13"
      ]
     },
     "metadata": {},
     "output_type": "display_data"
    }
   ],
   "source": [
    "cut_rod_naive(p, 5)"
   ]
  },
  {
   "cell_type": "code",
   "execution_count": 5,
   "metadata": {},
   "outputs": [
    {
     "data": {
      "text/html": [
       "18"
      ],
      "text/latex": [
       "18"
      ],
      "text/markdown": [
       "18"
      ],
      "text/plain": [
       "[1] 18"
      ]
     },
     "metadata": {},
     "output_type": "display_data"
    }
   ],
   "source": [
    "cut_rod_naive(p, 7)"
   ]
  },
  {
   "cell_type": "code",
   "execution_count": 6,
   "metadata": {},
   "outputs": [
    {
     "data": {
      "text/html": [
       "25"
      ],
      "text/latex": [
       "25"
      ],
      "text/markdown": [
       "25"
      ],
      "text/plain": [
       "[1] 25"
      ]
     },
     "metadata": {},
     "output_type": "display_data"
    }
   ],
   "source": [
    "cut_rod_naive(p, 9)"
   ]
  },
  {
   "cell_type": "code",
   "execution_count": 7,
   "metadata": {},
   "outputs": [
    {
     "data": {
      "text/html": [
       "30"
      ],
      "text/latex": [
       "30"
      ],
      "text/markdown": [
       "30"
      ],
      "text/plain": [
       "[1] 30"
      ]
     },
     "metadata": {},
     "output_type": "display_data"
    }
   ],
   "source": [
    "cut_rod_naive(p, 10)"
   ]
  },
  {
   "cell_type": "markdown",
   "metadata": {},
   "source": [
    "# Top-down Rod Cut with Memoization"
   ]
  },
  {
   "cell_type": "code",
   "execution_count": 8,
   "metadata": {},
   "outputs": [],
   "source": [
    "mem_cut_rod <- function(p, n, r) {\n",
    "    if (n == 0) return(0)\n",
    "    if (r[n] > 0) return(r[n])\n",
    "    q = - Inf\n",
    "    for (i in 1:n) {\n",
    "        q = max(q, p[i] + mem_cut_rod(p, n-i, r))\n",
    "    }\n",
    "    r[n] = q\n",
    "    return(q)\n",
    "}\n",
    "cut_rod_top_down <- function(p, n) {\n",
    "    r <- rep(-Inf, n)\n",
    "    return( mem_cut_rod(p, n, r) )\n",
    "}"
   ]
  },
  {
   "cell_type": "code",
   "execution_count": 9,
   "metadata": {},
   "outputs": [
    {
     "data": {
      "text/html": [
       "13"
      ],
      "text/latex": [
       "13"
      ],
      "text/markdown": [
       "13"
      ],
      "text/plain": [
       "[1] 13"
      ]
     },
     "metadata": {},
     "output_type": "display_data"
    },
    {
     "data": {
      "text/html": [
       "30"
      ],
      "text/latex": [
       "30"
      ],
      "text/markdown": [
       "30"
      ],
      "text/plain": [
       "[1] 30"
      ]
     },
     "metadata": {},
     "output_type": "display_data"
    }
   ],
   "source": [
    "cut_rod_top_down(p, 5)\n",
    "cut_rod_top_down(p, 10)"
   ]
  },
  {
   "cell_type": "markdown",
   "metadata": {},
   "source": [
    "## Better implementation"
   ]
  },
  {
   "cell_type": "code",
   "execution_count": 14,
   "metadata": {},
   "outputs": [],
   "source": [
    "mem_cut_rod2 <- function(p, n) {\n",
    "  if (n == 0) return(0)\n",
    "  if (r[n] > 0) return(r[n])\n",
    "  q = - Inf\n",
    "  for (i in 1:n) {\n",
    "    q = max(q, p[i] + mem_cut_rod2(p, n-i))\n",
    "  }\n",
    "  r[n] <<- q\n",
    "  return(q)\n",
    "}\n",
    "\n",
    "cut_rod_top_down2 <- function(p, n) {\n",
    "  return( mem_cut_rod2(p, n) )\n",
    "}"
   ]
  },
  {
   "cell_type": "code",
   "execution_count": 15,
   "metadata": {},
   "outputs": [
    {
     "data": {
      "text/html": [
       "13"
      ],
      "text/latex": [
       "13"
      ],
      "text/markdown": [
       "13"
      ],
      "text/plain": [
       "[1] 13"
      ]
     },
     "metadata": {},
     "output_type": "display_data"
    },
    {
     "data": {
      "text/html": [
       "30"
      ],
      "text/latex": [
       "30"
      ],
      "text/markdown": [
       "30"
      ],
      "text/plain": [
       "[1] 30"
      ]
     },
     "metadata": {},
     "output_type": "display_data"
    }
   ],
   "source": [
    "n <- length(p)\n",
    "r <- rep(-Inf, n)\n",
    "cut_rod_top_down2(p, 5)\n",
    "cut_rod_top_down2(p, 10)"
   ]
  },
  {
   "cell_type": "code",
   "execution_count": 19,
   "metadata": {},
   "outputs": [
    {
     "data": {
      "image/png": "[encoded data removed]",
      "text/plain": [
       "plot without title"
      ]
     },
     "metadata": {
      "image/png": {
       "height": 420,
       "width": 420
      }
     },
     "output_type": "display_data"
    }
   ],
   "source": [
    "bench <- microbenchmark(cut_rod_naive(p, 10), cut_rod_top_down(p, 10), cut_rod_top_down2(p, 10))\n",
    "plot(bench)"
   ]
  },
  {
   "cell_type": "markdown",
   "metadata": {},
   "source": [
    "## Closure implementation"
   ]
  },
  {
   "cell_type": "code",
   "execution_count": 25,
   "metadata": {},
   "outputs": [
    {
     "data": {
      "text/html": [
       "30"
      ],
      "text/latex": [
       "30"
      ],
      "text/markdown": [
       "30"
      ],
      "text/plain": [
       "[1] 30"
      ]
     },
     "metadata": {},
     "output_type": "display_data"
    }
   ],
   "source": [
    "cut_rod_top_down_closure <- function(p, n) {\n",
    "    r <- rep(-Inf, n)\n",
    "    return(function(p, n) {\n",
    "        if (n == 0) return(0)\n",
    "        if (r[n] > 0) return(r[n])\n",
    "        q = -Inf\n",
    "        for (i in 1:n) {\n",
    "            q = max(q, p[i] + mem_cut_rod2(p, n - i))\n",
    "        }\n",
    "        r[n] <<- q\n",
    "        return(q)\n",
    "    })\n",
    "    \n",
    "}\n",
    "\n",
    "\n",
    "cut_rod_top_down_closure(p, 10)(p, 10)"
   ]
  },
  {
   "cell_type": "code",
   "execution_count": 26,
   "metadata": {},
   "outputs": [
    {
     "data": {
      "image/png": "[encoded data removed]",
      "text/plain": [
       "plot without title"
      ]
     },
     "metadata": {
      "image/png": {
       "height": 420,
       "width": 420
      }
     },
     "output_type": "display_data"
    }
   ],
   "source": [
    "bench <- microbenchmark(cut_rod_naive(p, 10), cut_rod_top_down(p, 10), cut_rod_top_down2(p, 10), cut_rod_top_down_closure(p, 10)(p, 10))\n",
    "plot(bench)"
   ]
  },
  {
   "cell_type": "markdown",
   "metadata": {},
   "source": [
    "# Bottom-up Rod Cut"
   ]
  },
  {
   "cell_type": "code",
   "execution_count": 22,
   "metadata": {},
   "outputs": [],
   "source": [
    "cut_rod_bottom_up <- function(p, n) {\n",
    "    r <- rep(-Inf, n + 1)\n",
    "    r[1] = 0 # r(0), R index starts from 1\n",
    "    if (n == 1) return(1)\n",
    "    for (j in 1:n) {\n",
    "        q = -Inf\n",
    "        for (i in 1:j) {\n",
    "            q = max(q, p[i] + r[j-i + 1])\n",
    "        }\n",
    "        r[j+1] = q\n",
    "    }\n",
    "    return(r[n+1])\n",
    "}"
   ]
  },
  {
   "cell_type": "code",
   "execution_count": 23,
   "metadata": {},
   "outputs": [
    {
     "data": {
      "text/html": [
       "13"
      ],
      "text/latex": [
       "13"
      ],
      "text/markdown": [
       "13"
      ],
      "text/plain": [
       "[1] 13"
      ]
     },
     "metadata": {},
     "output_type": "display_data"
    },
    {
     "data": {
      "text/html": [
       "30"
      ],
      "text/latex": [
       "30"
      ],
      "text/markdown": [
       "30"
      ],
      "text/plain": [
       "[1] 30"
      ]
     },
     "metadata": {},
     "output_type": "display_data"
    }
   ],
   "source": [
    "cut_rod_bottom_up(p, 5)\n",
    "cut_rod_bottom_up(p, 10)"
   ]
  },
  {
   "cell_type": "code",
   "execution_count": 24,
   "metadata": {},
   "outputs": [
    {
     "data": {
      "image/png": "[encoded data removed]",
      "text/plain": [
       "plot without title"
      ]
     },
     "metadata": {
      "image/png": {
       "height": 420,
       "width": 420
      }
     },
     "output_type": "display_data"
    }
   ],
   "source": [
    "bench <- microbenchmark(cut_rod_naive(p, 10), cut_rod_top_down(p, 10), cut_rod_top_down2(p, 10), cut_rod_top_down_closure(p, 10)(p, 10), cut_rod_bottom_up(p, 10))\n",
    "plot(bench)"
   ]
  },
  {
   "cell_type": "markdown",
   "metadata": {},
   "source": [
    "# Printing Out Cuts"
   ]
  },
  {
   "cell_type": "code",
   "execution_count": 37,
   "metadata": {},
   "outputs": [],
   "source": [
    "cut_rod_bottom_up_extended <- function(p, n) {\n",
    "    r <- rep(-Inf, n + 1)\n",
    "    s <- rep(0, n)\n",
    "    r[1] = 0 # r(0), R index starts from 1\n",
    "    if (n == 1) return(1)\n",
    "    for (j in 1:n) {\n",
    "        q = -Inf\n",
    "        for (i in 1:j) {\n",
    "            if (q < p[i] + r[j-i + 1] ) {\n",
    "                q = p[i] + r[j-i + 1]\n",
    "                s[j] = i\n",
    "            }\n",
    "        }\n",
    "        r[j+1] = q\n",
    "    }\n",
    "    return(list(r = r, s=s))\n",
    "}\n",
    "\n",
    "print_cut_rod <- function(p, n) {\n",
    "    re_lt <- cut_rod_bottom_up_extended(p, n)\n",
    "    s <- re_lt$s\n",
    "    while(n>0) {\n",
    "        print(s[n])\n",
    "        n = n - s[n]\n",
    "    }\n",
    "}"
   ]
  },
  {
   "cell_type": "code",
   "execution_count": 38,
   "metadata": {},
   "outputs": [
    {
     "name": "stdout",
     "output_type": "stream",
     "text": [
      "[1] 3\n",
      "[1] 6\n"
     ]
    }
   ],
   "source": [
    "print_cut_rod(p, 9)"
   ]
  },
  {
   "cell_type": "markdown",
   "metadata": {},
   "source": [
    "# Sub-run sum"
   ]
  },
  {
   "cell_type": "code",
   "execution_count": 30,
   "metadata": {},
   "outputs": [],
   "source": [
    "subrun_sum <- function(x) {\n",
    "    # return the largest subseq sum, empty will be zero\n",
    "    sum_by_ind <- 0\n",
    "    max_sum <- 0\n",
    "    for (i in seq(x)) {\n",
    "        sum_by_ind <- max(sum_by_ind + x[i], x[i])\n",
    "        max_sum <- max(max_sum, sum_by_ind)\n",
    "    }\n",
    "    return(max_sum)\n",
    "}"
   ]
  },
  {
   "cell_type": "code",
   "execution_count": 32,
   "metadata": {},
   "outputs": [
    {
     "data": {
      "text/html": [
       "28"
      ],
      "text/latex": [
       "28"
      ],
      "text/markdown": [
       "28"
      ],
      "text/plain": [
       "[1] 28"
      ]
     },
     "metadata": {},
     "output_type": "display_data"
    }
   ],
   "source": [
    "a <- c(-3, 5, 4, 9, -10, 20)\n",
    "subrun_sum(a)"
   ]
  },
  {
   "cell_type": "code",
   "execution_count": 33,
   "metadata": {},
   "outputs": [
    {
     "data": {
      "text/html": [
       "108"
      ],
      "text/latex": [
       "108"
      ],
      "text/markdown": [
       "108"
      ],
      "text/plain": [
       "[1] 108"
      ]
     },
     "metadata": {},
     "output_type": "display_data"
    }
   ],
   "source": [
    "a <- c(-3, 5, 4, 9, -10, 100)\n",
    "subrun_sum(a)"
   ]
  },
  {
   "cell_type": "code",
   "execution_count": 35,
   "metadata": {},
   "outputs": [
    {
     "data": {
      "text/html": [
       "0"
      ],
      "text/latex": [
       "0"
      ],
      "text/markdown": [
       "0"
      ],
      "text/plain": [
       "[1] 0"
      ]
     },
     "metadata": {},
     "output_type": "display_data"
    }
   ],
   "source": [
    "a <- rep(-1, 10)\n",
    "subrun_sum(a)"
   ]
  }
 ],
 "metadata": {
  "kernelspec": {
   "display_name": "R",
   "language": "R",
   "name": "ir"
  },
  "language_info": {
   "codemirror_mode": "r",
   "file_extension": ".r",
   "mimetype": "text/x-r-source",
   "name": "R",
   "pygments_lexer": "r",
   "version": "4.0.3"
  },
  "toc": {
   "base_numbering": 1,
   "nav_menu": {},
   "number_sections": true,
   "sideBar": true,
   "skip_h1_title": false,
   "title_cell": "Table of Contents",
   "title_sidebar": "Contents",
   "toc_cell": false,
   "toc_position": {},
   "toc_section_display": true,
   "toc_window_display": false
  }
 },
 "nbformat": 4,
 "nbformat_minor": 4
}
