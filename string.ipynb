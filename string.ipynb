{
 "cells": [
  {
   "cell_type": "markdown",
   "metadata": {},
   "source": [
    "# Downloading"
   ]
  },
  {
   "cell_type": "code",
   "execution_count": 1,
   "metadata": {},
   "outputs": [
    {
     "name": "stdout",
     "output_type": "stream",
     "text": [
      "[1] \"Downloading csv_hak.zip\"\n",
      "[1] \"Downloading csv_hal.zip\"\n"
     ]
    }
   ],
   "source": [
    "a <- scan(\"http://www2.census.gov/acs2013_3yr/pums/\", \"character\")\n",
    "## remove junks\n",
    "a <- a[grep(\"csv\", a)]                  \n",
    "## extract the file names\n",
    "a <-  substring(a, 7, 17)                    \n",
    "## get the links to the zip files\n",
    "baseurl <- \"http://www2.census.gov/acs2013_3yr/pums/\"\n",
    "aurl <- paste(baseurl, a,sep=\"\")                    \n",
    "## Download the files automatically\n",
    "for (i in seq_along(a)) {\n",
    "    print(paste0(\"Downloading \", a[i]))\n",
    "    download.file(aurl[i], a[i])\n",
    "    ## To avoid overwhelming the web traffic,\n",
    "    ## Add pauses between downloads to mimic human clicking \n",
    "    Sys.sleep(10)\n",
    "}"
   ]
  },
  {
   "cell_type": "markdown",
   "metadata": {},
   "source": [
    "# Regular Expressions"
   ]
  },
  {
   "cell_type": "code",
   "execution_count": 2,
   "metadata": {},
   "outputs": [],
   "source": [
    "myDNA <- c(\"ATCG\", \"CCATCG\", \"ATGCG\", \"ATTTCCG\", \"ATTTTTTCGGGG\",\n",
    "           \"ATTCGGGATCG\")"
   ]
  },
  {
   "cell_type": "markdown",
   "metadata": {},
   "source": [
    "## Match"
   ]
  },
  {
   "cell_type": "code",
   "execution_count": 3,
   "metadata": {},
   "outputs": [
    {
     "data": {
      "text/html": [
       "<style>\n",
       ".list-inline {list-style: none; margin:0; padding: 0}\n",
       ".list-inline>li {display: inline-block}\n",
       ".list-inline>li:not(:last-child)::after {content: \"\\00b7\"; padding: 0 .5ex}\n",
       "</style>\n",
       "<ol class=list-inline><li>'ATCG'</li><li>'CCATCG'</li><li>'ATTCGGGATCG'</li></ol>\n"
      ],
      "text/latex": [
       "\\begin{enumerate*}\n",
       "\\item 'ATCG'\n",
       "\\item 'CCATCG'\n",
       "\\item 'ATTCGGGATCG'\n",
       "\\end{enumerate*}\n"
      ],
      "text/markdown": [
       "1. 'ATCG'\n",
       "2. 'CCATCG'\n",
       "3. 'ATTCGGGATCG'\n",
       "\n",
       "\n"
      ],
      "text/plain": [
       "[1] \"ATCG\"        \"CCATCG\"      \"ATTCGGGATCG\""
      ]
     },
     "metadata": {},
     "output_type": "display_data"
    },
    {
     "data": {
      "text/html": [
       "'ATCG'"
      ],
      "text/latex": [
       "'ATCG'"
      ],
      "text/markdown": [
       "'ATCG'"
      ],
      "text/plain": [
       "[1] \"ATCG\""
      ]
     },
     "metadata": {},
     "output_type": "display_data"
    },
    {
     "data": {
      "text/html": [
       "<style>\n",
       ".list-inline {list-style: none; margin:0; padding: 0}\n",
       ".list-inline>li {display: inline-block}\n",
       ".list-inline>li:not(:last-child)::after {content: \"\\00b7\"; padding: 0 .5ex}\n",
       "</style>\n",
       "<ol class=list-inline><li>'ATCG'</li><li>'CCATCG'</li><li>'ATTCGGGATCG'</li></ol>\n"
      ],
      "text/latex": [
       "\\begin{enumerate*}\n",
       "\\item 'ATCG'\n",
       "\\item 'CCATCG'\n",
       "\\item 'ATTCGGGATCG'\n",
       "\\end{enumerate*}\n"
      ],
      "text/markdown": [
       "1. 'ATCG'\n",
       "2. 'CCATCG'\n",
       "3. 'ATTCGGGATCG'\n",
       "\n",
       "\n"
      ],
      "text/plain": [
       "[1] \"ATCG\"        \"CCATCG\"      \"ATTCGGGATCG\""
      ]
     },
     "metadata": {},
     "output_type": "display_data"
    },
    {
     "data": {
      "text/html": [
       "<style>\n",
       ".list-inline {list-style: none; margin:0; padding: 0}\n",
       ".list-inline>li {display: inline-block}\n",
       ".list-inline>li:not(:last-child)::after {content: \"\\00b7\"; padding: 0 .5ex}\n",
       "</style>\n",
       "<ol class=list-inline><li>'ATCG'</li><li>'CCATCG'</li><li>'ATTTTTTCGGGG'</li><li>'ATTCGGGATCG'</li></ol>\n"
      ],
      "text/latex": [
       "\\begin{enumerate*}\n",
       "\\item 'ATCG'\n",
       "\\item 'CCATCG'\n",
       "\\item 'ATTTTTTCGGGG'\n",
       "\\item 'ATTCGGGATCG'\n",
       "\\end{enumerate*}\n"
      ],
      "text/markdown": [
       "1. 'ATCG'\n",
       "2. 'CCATCG'\n",
       "3. 'ATTTTTTCGGGG'\n",
       "4. 'ATTCGGGATCG'\n",
       "\n",
       "\n"
      ],
      "text/plain": [
       "[1] \"ATCG\"         \"CCATCG\"       \"ATTTTTTCGGGG\" \"ATTCGGGATCG\" "
      ]
     },
     "metadata": {},
     "output_type": "display_data"
    },
    {
     "data": {
      "text/html": [
       "<style>\n",
       ".list-inline {list-style: none; margin:0; padding: 0}\n",
       ".list-inline>li {display: inline-block}\n",
       ".list-inline>li:not(:last-child)::after {content: \"\\00b7\"; padding: 0 .5ex}\n",
       "</style>\n",
       "<ol class=list-inline><li>'ATTTTTTCGGGG'</li><li>'ATTCGGGATCG'</li></ol>\n"
      ],
      "text/latex": [
       "\\begin{enumerate*}\n",
       "\\item 'ATTTTTTCGGGG'\n",
       "\\item 'ATTCGGGATCG'\n",
       "\\end{enumerate*}\n"
      ],
      "text/markdown": [
       "1. 'ATTTTTTCGGGG'\n",
       "2. 'ATTCGGGATCG'\n",
       "\n",
       "\n"
      ],
      "text/plain": [
       "[1] \"ATTTTTTCGGGG\" \"ATTCGGGATCG\" "
      ]
     },
     "metadata": {},
     "output_type": "display_data"
    },
    {
     "data": {
      "text/html": [
       "<style>\n",
       ".list-inline {list-style: none; margin:0; padding: 0}\n",
       ".list-inline>li {display: inline-block}\n",
       ".list-inline>li:not(:last-child)::after {content: \"\\00b7\"; padding: 0 .5ex}\n",
       "</style>\n",
       "<ol class=list-inline><li>'ATCG'</li><li>'CCATCG'</li><li>'ATTTTTTCGGGG'</li><li>'ATTCGGGATCG'</li></ol>\n"
      ],
      "text/latex": [
       "\\begin{enumerate*}\n",
       "\\item 'ATCG'\n",
       "\\item 'CCATCG'\n",
       "\\item 'ATTTTTTCGGGG'\n",
       "\\item 'ATTCGGGATCG'\n",
       "\\end{enumerate*}\n"
      ],
      "text/markdown": [
       "1. 'ATCG'\n",
       "2. 'CCATCG'\n",
       "3. 'ATTTTTTCGGGG'\n",
       "4. 'ATTCGGGATCG'\n",
       "\n",
       "\n"
      ],
      "text/plain": [
       "[1] \"ATCG\"         \"CCATCG\"       \"ATTTTTTCGGGG\" \"ATTCGGGATCG\" "
      ]
     },
     "metadata": {},
     "output_type": "display_data"
    },
    {
     "data": {
      "text/html": [
       "<style>\n",
       ".list-inline {list-style: none; margin:0; padding: 0}\n",
       ".list-inline>li {display: inline-block}\n",
       ".list-inline>li:not(:last-child)::after {content: \"\\00b7\"; padding: 0 .5ex}\n",
       "</style>\n",
       "<ol class=list-inline><li>'ATCG'</li><li>'CCATCG'</li><li>'ATGCG'</li><li>'ATTTCCG'</li><li>'ATTTTTTCGGGG'</li><li>'ATTCGGGATCG'</li></ol>\n"
      ],
      "text/latex": [
       "\\begin{enumerate*}\n",
       "\\item 'ATCG'\n",
       "\\item 'CCATCG'\n",
       "\\item 'ATGCG'\n",
       "\\item 'ATTTCCG'\n",
       "\\item 'ATTTTTTCGGGG'\n",
       "\\item 'ATTCGGGATCG'\n",
       "\\end{enumerate*}\n"
      ],
      "text/markdown": [
       "1. 'ATCG'\n",
       "2. 'CCATCG'\n",
       "3. 'ATGCG'\n",
       "4. 'ATTTCCG'\n",
       "5. 'ATTTTTTCGGGG'\n",
       "6. 'ATTCGGGATCG'\n",
       "\n",
       "\n"
      ],
      "text/plain": [
       "[1] \"ATCG\"         \"CCATCG\"       \"ATGCG\"        \"ATTTCCG\"      \"ATTTTTTCGGGG\"\n",
       "[6] \"ATTCGGGATCG\" "
      ]
     },
     "metadata": {},
     "output_type": "display_data"
    },
    {
     "data": {
      "text/html": [
       "<style>\n",
       ".list-inline {list-style: none; margin:0; padding: 0}\n",
       ".list-inline>li {display: inline-block}\n",
       ".list-inline>li:not(:last-child)::after {content: \"\\00b7\"; padding: 0 .5ex}\n",
       "</style>\n",
       "<ol class=list-inline><li>'ATCG'</li><li>'CCATCG'</li><li>'ATGCG'</li><li>'ATTTCCG'</li><li>'ATTTTTTCGGGG'</li><li>'ATTCGGGATCG'</li></ol>\n"
      ],
      "text/latex": [
       "\\begin{enumerate*}\n",
       "\\item 'ATCG'\n",
       "\\item 'CCATCG'\n",
       "\\item 'ATGCG'\n",
       "\\item 'ATTTCCG'\n",
       "\\item 'ATTTTTTCGGGG'\n",
       "\\item 'ATTCGGGATCG'\n",
       "\\end{enumerate*}\n"
      ],
      "text/markdown": [
       "1. 'ATCG'\n",
       "2. 'CCATCG'\n",
       "3. 'ATGCG'\n",
       "4. 'ATTTCCG'\n",
       "5. 'ATTTTTTCGGGG'\n",
       "6. 'ATTCGGGATCG'\n",
       "\n",
       "\n"
      ],
      "text/plain": [
       "[1] \"ATCG\"         \"CCATCG\"       \"ATGCG\"        \"ATTTCCG\"      \"ATTTTTTCGGGG\"\n",
       "[6] \"ATTCGGGATCG\" "
      ]
     },
     "metadata": {},
     "output_type": "display_data"
    },
    {
     "data": {
      "text/html": [
       "<style>\n",
       ".list-inline {list-style: none; margin:0; padding: 0}\n",
       ".list-inline>li {display: inline-block}\n",
       ".list-inline>li:not(:last-child)::after {content: \"\\00b7\"; padding: 0 .5ex}\n",
       "</style>\n",
       "<ol class=list-inline><li>'CCATCG'</li><li>'ATTCGGGATCG'</li></ol>\n"
      ],
      "text/latex": [
       "\\begin{enumerate*}\n",
       "\\item 'CCATCG'\n",
       "\\item 'ATTCGGGATCG'\n",
       "\\end{enumerate*}\n"
      ],
      "text/markdown": [
       "1. 'CCATCG'\n",
       "2. 'ATTCGGGATCG'\n",
       "\n",
       "\n"
      ],
      "text/plain": [
       "[1] \"CCATCG\"      \"ATTCGGGATCG\""
      ]
     },
     "metadata": {},
     "output_type": "display_data"
    },
    {
     "data": {
      "text/html": [
       "<style>\n",
       ".list-inline {list-style: none; margin:0; padding: 0}\n",
       ".list-inline>li {display: inline-block}\n",
       ".list-inline>li:not(:last-child)::after {content: \"\\00b7\"; padding: 0 .5ex}\n",
       "</style>\n",
       "<ol class=list-inline><li>'ATCG'</li><li>'ATGCG'</li><li>'ATTTCCG'</li><li>'ATTTTTTCGGGG'</li><li>'ATTCGGGATCG'</li></ol>\n"
      ],
      "text/latex": [
       "\\begin{enumerate*}\n",
       "\\item 'ATCG'\n",
       "\\item 'ATGCG'\n",
       "\\item 'ATTTCCG'\n",
       "\\item 'ATTTTTTCGGGG'\n",
       "\\item 'ATTCGGGATCG'\n",
       "\\end{enumerate*}\n"
      ],
      "text/markdown": [
       "1. 'ATCG'\n",
       "2. 'ATGCG'\n",
       "3. 'ATTTCCG'\n",
       "4. 'ATTTTTTCGGGG'\n",
       "5. 'ATTCGGGATCG'\n",
       "\n",
       "\n"
      ],
      "text/plain": [
       "[1] \"ATCG\"         \"ATGCG\"        \"ATTTCCG\"      \"ATTTTTTCGGGG\" \"ATTCGGGATCG\" "
      ]
     },
     "metadata": {},
     "output_type": "display_data"
    }
   ],
   "source": [
    "################################################################\n",
    "## Match:  Find if any string matches our wanted pattern\n",
    "################################################################\n",
    "##matches ATCG exactly, not really!\n",
    "myDNA[grep(\"ATCG\", myDNA)]\n",
    "\n",
    "## a  solution for exact match\n",
    "myDNA[grep(\"^ATCG$\", myDNA)]\n",
    "\n",
    "## match either ATTCG  or ATCG\n",
    "myDNA[grep(\"ATT?CG\", myDNA)]\n",
    "\n",
    "## match the above two cases and more T in between\n",
    "myDNA[grep(\"ATT*CG\", myDNA)]\n",
    "\n",
    "## match all the * cases except ATCG\n",
    "myDNA[grep(\"ATT+CG\", myDNA)]\n",
    "myDNA[grep(\"AT+CG\", myDNA)]\n",
    "\n",
    "\n",
    "## RE is greedy by default \n",
    "myDNA[grep(\".*A.*\", myDNA)]\n",
    "myDNA[grep(\"A\", myDNA)]\n",
    "\n",
    "myDNA[grep(\".+A.+\", myDNA)]\n",
    "myDNA[grep(\"^[AT]+.*[G]+$\", myDNA)]"
   ]
  },
  {
   "cell_type": "markdown",
   "metadata": {},
   "source": [
    "## Replace"
   ]
  },
  {
   "cell_type": "code",
   "execution_count": 4,
   "metadata": {},
   "outputs": [
    {
     "data": {
      "text/html": [
       "<style>\n",
       ".list-inline {list-style: none; margin:0; padding: 0}\n",
       ".list-inline>li {display: inline-block}\n",
       ".list-inline>li:not(:last-child)::after {content: \"\\00b7\"; padding: 0 .5ex}\n",
       "</style>\n",
       "<ol class=list-inline><li>'haha'</li><li>'CChaha'</li><li>'ATGCG'</li><li>'ATTTCCG'</li><li>'ATTTTTTCGGGG'</li><li>'hahaGGATCG'</li></ol>\n"
      ],
      "text/latex": [
       "\\begin{enumerate*}\n",
       "\\item 'haha'\n",
       "\\item 'CChaha'\n",
       "\\item 'ATGCG'\n",
       "\\item 'ATTTCCG'\n",
       "\\item 'ATTTTTTCGGGG'\n",
       "\\item 'hahaGGATCG'\n",
       "\\end{enumerate*}\n"
      ],
      "text/markdown": [
       "1. 'haha'\n",
       "2. 'CChaha'\n",
       "3. 'ATGCG'\n",
       "4. 'ATTTCCG'\n",
       "5. 'ATTTTTTCGGGG'\n",
       "6. 'hahaGGATCG'\n",
       "\n",
       "\n"
      ],
      "text/plain": [
       "[1] \"haha\"         \"CChaha\"       \"ATGCG\"        \"ATTTCCG\"      \"ATTTTTTCGGGG\"\n",
       "[6] \"hahaGGATCG\"  "
      ]
     },
     "metadata": {},
     "output_type": "display_data"
    },
    {
     "data": {
      "text/html": [
       "<style>\n",
       ".list-inline {list-style: none; margin:0; padding: 0}\n",
       ".list-inline>li {display: inline-block}\n",
       ".list-inline>li:not(:last-child)::after {content: \"\\00b7\"; padding: 0 .5ex}\n",
       "</style>\n",
       "<ol class=list-inline><li>'haha'</li><li>'CChaha'</li><li>'ATGCG'</li><li>'ATTTCCG'</li><li>'hahaGGG'</li><li>'hahaGGATCG'</li></ol>\n"
      ],
      "text/latex": [
       "\\begin{enumerate*}\n",
       "\\item 'haha'\n",
       "\\item 'CChaha'\n",
       "\\item 'ATGCG'\n",
       "\\item 'ATTTCCG'\n",
       "\\item 'hahaGGG'\n",
       "\\item 'hahaGGATCG'\n",
       "\\end{enumerate*}\n"
      ],
      "text/markdown": [
       "1. 'haha'\n",
       "2. 'CChaha'\n",
       "3. 'ATGCG'\n",
       "4. 'ATTTCCG'\n",
       "5. 'hahaGGG'\n",
       "6. 'hahaGGATCG'\n",
       "\n",
       "\n"
      ],
      "text/plain": [
       "[1] \"haha\"       \"CChaha\"     \"ATGCG\"      \"ATTTCCG\"    \"hahaGGG\"   \n",
       "[6] \"hahaGGATCG\""
      ]
     },
     "metadata": {},
     "output_type": "display_data"
    },
    {
     "data": {
      "text/html": [
       "<style>\n",
       ".list-inline {list-style: none; margin:0; padding: 0}\n",
       ".list-inline>li {display: inline-block}\n",
       ".list-inline>li:not(:last-child)::after {content: \"\\00b7\"; padding: 0 .5ex}\n",
       "</style>\n",
       "<ol class=list-inline><li>'haha'</li><li>'CChaha'</li><li>'ATGCG'</li><li>'ATTTCCG'</li><li>'hahaGGG'</li><li>'hahaGGhaha'</li></ol>\n"
      ],
      "text/latex": [
       "\\begin{enumerate*}\n",
       "\\item 'haha'\n",
       "\\item 'CChaha'\n",
       "\\item 'ATGCG'\n",
       "\\item 'ATTTCCG'\n",
       "\\item 'hahaGGG'\n",
       "\\item 'hahaGGhaha'\n",
       "\\end{enumerate*}\n"
      ],
      "text/markdown": [
       "1. 'haha'\n",
       "2. 'CChaha'\n",
       "3. 'ATGCG'\n",
       "4. 'ATTTCCG'\n",
       "5. 'hahaGGG'\n",
       "6. 'hahaGGhaha'\n",
       "\n",
       "\n"
      ],
      "text/plain": [
       "[1] \"haha\"       \"CChaha\"     \"ATGCG\"      \"ATTTCCG\"    \"hahaGGG\"   \n",
       "[6] \"hahaGGhaha\""
      ]
     },
     "metadata": {},
     "output_type": "display_data"
    },
    {
     "data": {
      "text/html": [
       "<style>\n",
       ".list-inline {list-style: none; margin:0; padding: 0}\n",
       ".list-inline>li {display: inline-block}\n",
       ".list-inline>li:not(:last-child)::after {content: \"\\00b7\"; padding: 0 .5ex}\n",
       "</style>\n",
       "<ol class=list-inline><li>'ATCG_ATCG_haha'</li><li>'CCATCG_ATCG_haha'</li><li>'ATGCG'</li><li>'ATTTCCG'</li><li>'ATTTTTTCG_ATTTTTTCG_hahaGGG'</li><li>'ATTCG_ATTCG_hahaGGATCG'</li></ol>\n"
      ],
      "text/latex": [
       "\\begin{enumerate*}\n",
       "\\item 'ATCG\\_ATCG\\_haha'\n",
       "\\item 'CCATCG\\_ATCG\\_haha'\n",
       "\\item 'ATGCG'\n",
       "\\item 'ATTTCCG'\n",
       "\\item 'ATTTTTTCG\\_ATTTTTTCG\\_hahaGGG'\n",
       "\\item 'ATTCG\\_ATTCG\\_hahaGGATCG'\n",
       "\\end{enumerate*}\n"
      ],
      "text/markdown": [
       "1. 'ATCG_ATCG_haha'\n",
       "2. 'CCATCG_ATCG_haha'\n",
       "3. 'ATGCG'\n",
       "4. 'ATTTCCG'\n",
       "5. 'ATTTTTTCG_ATTTTTTCG_hahaGGG'\n",
       "6. 'ATTCG_ATTCG_hahaGGATCG'\n",
       "\n",
       "\n"
      ],
      "text/plain": [
       "[1] \"ATCG_ATCG_haha\"              \"CCATCG_ATCG_haha\"           \n",
       "[3] \"ATGCG\"                       \"ATTTCCG\"                    \n",
       "[5] \"ATTTTTTCG_ATTTTTTCG_hahaGGG\" \"ATTCG_ATTCG_hahaGGATCG\"     "
      ]
     },
     "metadata": {},
     "output_type": "display_data"
    }
   ],
   "source": [
    "################################################################\n",
    "## Replace: Replaced matched patterns \n",
    "################################################################\n",
    "\n",
    "## either ATTCG  or ATCG\n",
    "sub(\"ATT?CG\", \"haha\", myDNA)\n",
    "\n",
    "sub(\"AT+CG\", \"haha\", myDNA)\n",
    "\n",
    "gsub(\"AT+CG\", \"haha\", myDNA)\n",
    "\n",
    "## you can duplicate matched strings as well\n",
    "sub(\"(AT+CG)\", \"\\\\1_\\\\1_haha\", myDNA)"
   ]
  },
  {
   "cell_type": "markdown",
   "metadata": {},
   "source": [
    "## Split"
   ]
  },
  {
   "cell_type": "code",
   "execution_count": 5,
   "metadata": {},
   "outputs": [
    {
     "data": {
      "text/html": [
       "<ol>\n",
       "\t<li>''</li>\n",
       "\t<li>'CC'</li>\n",
       "\t<li>'ATGCG'</li>\n",
       "\t<li>'ATTTCCG'</li>\n",
       "\t<li><style>\n",
       ".list-inline {list-style: none; margin:0; padding: 0}\n",
       ".list-inline>li {display: inline-block}\n",
       ".list-inline>li:not(:last-child)::after {content: \"\\00b7\"; padding: 0 .5ex}\n",
       "</style>\n",
       "<ol class=list-inline><li>''</li><li>'GGG'</li></ol>\n",
       "</li>\n",
       "\t<li><style>\n",
       ".list-inline {list-style: none; margin:0; padding: 0}\n",
       ".list-inline>li {display: inline-block}\n",
       ".list-inline>li:not(:last-child)::after {content: \"\\00b7\"; padding: 0 .5ex}\n",
       "</style>\n",
       "<ol class=list-inline><li>''</li><li>'GG'</li></ol>\n",
       "</li>\n",
       "</ol>\n"
      ],
      "text/latex": [
       "\\begin{enumerate}\n",
       "\\item ''\n",
       "\\item 'CC'\n",
       "\\item 'ATGCG'\n",
       "\\item 'ATTTCCG'\n",
       "\\item \\begin{enumerate*}\n",
       "\\item ''\n",
       "\\item 'GGG'\n",
       "\\end{enumerate*}\n",
       "\n",
       "\\item \\begin{enumerate*}\n",
       "\\item ''\n",
       "\\item 'GG'\n",
       "\\end{enumerate*}\n",
       "\n",
       "\\end{enumerate}\n"
      ],
      "text/markdown": [
       "1. ''\n",
       "2. 'CC'\n",
       "3. 'ATGCG'\n",
       "4. 'ATTTCCG'\n",
       "5. 1. ''\n",
       "2. 'GGG'\n",
       "\n",
       "\n",
       "\n",
       "6. 1. ''\n",
       "2. 'GG'\n",
       "\n",
       "\n",
       "\n",
       "\n",
       "\n"
      ],
      "text/plain": [
       "[[1]]\n",
       "[1] \"\"\n",
       "\n",
       "[[2]]\n",
       "[1] \"CC\"\n",
       "\n",
       "[[3]]\n",
       "[1] \"ATGCG\"\n",
       "\n",
       "[[4]]\n",
       "[1] \"ATTTCCG\"\n",
       "\n",
       "[[5]]\n",
       "[1] \"\"    \"GGG\"\n",
       "\n",
       "[[6]]\n",
       "[1] \"\"   \"GG\"\n"
      ]
     },
     "metadata": {},
     "output_type": "display_data"
    }
   ],
   "source": [
    "################################################################\n",
    "## Split: split around ATCG\n",
    "################################################################\n",
    "strsplit(myDNA, \"AT+CG\")"
   ]
  },
  {
   "cell_type": "markdown",
   "metadata": {},
   "source": [
    "## Match Details"
   ]
  },
  {
   "cell_type": "code",
   "execution_count": 6,
   "metadata": {},
   "outputs": [
    {
     "data": {
      "text/html": [
       "<style>\n",
       ".list-inline {list-style: none; margin:0; padding: 0}\n",
       ".list-inline>li {display: inline-block}\n",
       ".list-inline>li:not(:last-child)::after {content: \"\\00b7\"; padding: 0 .5ex}\n",
       "</style>\n",
       "<ol class=list-inline><li>1</li><li>3</li><li>-1</li><li>-1</li><li>1</li><li>1</li></ol>\n"
      ],
      "text/latex": [
       "\\begin{enumerate*}\n",
       "\\item 1\n",
       "\\item 3\n",
       "\\item -1\n",
       "\\item -1\n",
       "\\item 1\n",
       "\\item 1\n",
       "\\end{enumerate*}\n"
      ],
      "text/markdown": [
       "1. 1\n",
       "2. 3\n",
       "3. -1\n",
       "4. -1\n",
       "5. 1\n",
       "6. 1\n",
       "\n",
       "\n"
      ],
      "text/plain": [
       "[1]  1  3 -1 -1  1  1\n",
       "attr(,\"match.length\")\n",
       "[1]  4  4 -1 -1  9  5\n",
       "attr(,\"index.type\")\n",
       "[1] \"chars\"\n",
       "attr(,\"useBytes\")\n",
       "[1] TRUE"
      ]
     },
     "metadata": {},
     "output_type": "display_data"
    },
    {
     "data": {
      "text/html": [
       "<ol>\n",
       "\t<li>1</li>\n",
       "\t<li>3</li>\n",
       "\t<li>-1</li>\n",
       "\t<li>-1</li>\n",
       "\t<li>1</li>\n",
       "\t<li><style>\n",
       ".list-inline {list-style: none; margin:0; padding: 0}\n",
       ".list-inline>li {display: inline-block}\n",
       ".list-inline>li:not(:last-child)::after {content: \"\\00b7\"; padding: 0 .5ex}\n",
       "</style>\n",
       "<ol class=list-inline><li>1</li><li>8</li></ol>\n",
       "</li>\n",
       "</ol>\n"
      ],
      "text/latex": [
       "\\begin{enumerate}\n",
       "\\item 1\n",
       "\\item 3\n",
       "\\item -1\n",
       "\\item -1\n",
       "\\item 1\n",
       "\\item \\begin{enumerate*}\n",
       "\\item 1\n",
       "\\item 8\n",
       "\\end{enumerate*}\n",
       "\n",
       "\\end{enumerate}\n"
      ],
      "text/markdown": [
       "1. 1\n",
       "2. 3\n",
       "3. -1\n",
       "4. -1\n",
       "5. 1\n",
       "6. 1. 1\n",
       "2. 8\n",
       "\n",
       "\n",
       "\n",
       "\n",
       "\n"
      ],
      "text/plain": [
       "[[1]]\n",
       "[1] 1\n",
       "attr(,\"match.length\")\n",
       "[1] 4\n",
       "attr(,\"index.type\")\n",
       "[1] \"chars\"\n",
       "attr(,\"useBytes\")\n",
       "[1] TRUE\n",
       "\n",
       "[[2]]\n",
       "[1] 3\n",
       "attr(,\"match.length\")\n",
       "[1] 4\n",
       "attr(,\"index.type\")\n",
       "[1] \"chars\"\n",
       "attr(,\"useBytes\")\n",
       "[1] TRUE\n",
       "\n",
       "[[3]]\n",
       "[1] -1\n",
       "attr(,\"match.length\")\n",
       "[1] -1\n",
       "attr(,\"index.type\")\n",
       "[1] \"chars\"\n",
       "attr(,\"useBytes\")\n",
       "[1] TRUE\n",
       "\n",
       "[[4]]\n",
       "[1] -1\n",
       "attr(,\"match.length\")\n",
       "[1] -1\n",
       "attr(,\"index.type\")\n",
       "[1] \"chars\"\n",
       "attr(,\"useBytes\")\n",
       "[1] TRUE\n",
       "\n",
       "[[5]]\n",
       "[1] 1\n",
       "attr(,\"match.length\")\n",
       "[1] 9\n",
       "attr(,\"index.type\")\n",
       "[1] \"chars\"\n",
       "attr(,\"useBytes\")\n",
       "[1] TRUE\n",
       "\n",
       "[[6]]\n",
       "[1] 1 8\n",
       "attr(,\"match.length\")\n",
       "[1] 5 4\n",
       "attr(,\"index.type\")\n",
       "[1] \"chars\"\n",
       "attr(,\"useBytes\")\n",
       "[1] TRUE\n"
      ]
     },
     "metadata": {},
     "output_type": "display_data"
    }
   ],
   "source": [
    "################################################################\n",
    "## Matching details: matches occur where, what and etc \n",
    "################################################################\n",
    "## first matches\n",
    "regexpr(\"AT+CG\", myDNA)\n",
    "\n",
    "## multiple matches\n",
    "gregexpr(\"AT+CG\", myDNA)\n"
   ]
  },
  {
   "cell_type": "markdown",
   "metadata": {},
   "source": [
    "## Special Conventions"
   ]
  },
  {
   "cell_type": "code",
   "execution_count": 8,
   "metadata": {},
   "outputs": [
    {
     "data": {
      "text/html": [
       "<ol>\n",
       "\t<li><style>\n",
       ".list-inline {list-style: none; margin:0; padding: 0}\n",
       ".list-inline>li {display: inline-block}\n",
       ".list-inline>li:not(:last-child)::after {content: \"\\00b7\"; padding: 0 .5ex}\n",
       "</style>\n",
       "<ol class=list-inline><li>''</li><li>''</li><li>''</li><li>''</li><li>''</li><li>''</li><li>''</li><li>''</li><li>''</li></ol>\n",
       "</li>\n",
       "</ol>\n"
      ],
      "text/latex": [
       "\\begin{enumerate}\n",
       "\\item \\begin{enumerate*}\n",
       "\\item ''\n",
       "\\item ''\n",
       "\\item ''\n",
       "\\item ''\n",
       "\\item ''\n",
       "\\item ''\n",
       "\\item ''\n",
       "\\item ''\n",
       "\\item ''\n",
       "\\end{enumerate*}\n",
       "\n",
       "\\end{enumerate}\n"
      ],
      "text/markdown": [
       "1. 1. ''\n",
       "2. ''\n",
       "3. ''\n",
       "4. ''\n",
       "5. ''\n",
       "6. ''\n",
       "7. ''\n",
       "8. ''\n",
       "9. ''\n",
       "\n",
       "\n",
       "\n",
       "\n",
       "\n"
      ],
      "text/plain": [
       "[[1]]\n",
       "[1] \"\" \"\" \"\" \"\" \"\" \"\" \"\" \"\" \"\"\n"
      ]
     },
     "metadata": {},
     "output_type": "display_data"
    },
    {
     "data": {
      "text/html": [
       "<ol>\n",
       "\t<li><style>\n",
       ".list-inline {list-style: none; margin:0; padding: 0}\n",
       ".list-inline>li {display: inline-block}\n",
       ".list-inline>li:not(:last-child)::after {content: \"\\00b7\"; padding: 0 .5ex}\n",
       "</style>\n",
       "<ol class=list-inline><li>'myDNA'</li><li>'txt'</li></ol>\n",
       "</li>\n",
       "</ol>\n"
      ],
      "text/latex": [
       "\\begin{enumerate}\n",
       "\\item \\begin{enumerate*}\n",
       "\\item 'myDNA'\n",
       "\\item 'txt'\n",
       "\\end{enumerate*}\n",
       "\n",
       "\\end{enumerate}\n"
      ],
      "text/markdown": [
       "1. 1. 'myDNA'\n",
       "2. 'txt'\n",
       "\n",
       "\n",
       "\n",
       "\n",
       "\n"
      ],
      "text/plain": [
       "[[1]]\n",
       "[1] \"myDNA\" \"txt\"  \n"
      ]
     },
     "metadata": {},
     "output_type": "display_data"
    }
   ],
   "source": [
    "################################################################\n",
    "##  R special convention: \\ \n",
    "################################################################\n",
    "strsplit(\"myDNA.txt\", \".\") \n",
    "# strsplit(\"myDNA.txt\", \"\\.\") # error\n",
    "strsplit(\"myDNA.txt\", \"\\\\.\")"
   ]
  },
  {
   "cell_type": "markdown",
   "metadata": {},
   "source": [
    "## More Complex Examples"
   ]
  },
  {
   "cell_type": "code",
   "execution_count": 9,
   "metadata": {},
   "outputs": [
    {
     "data": {
      "text/html": [
       "<ol>\n",
       "\t<li><style>\n",
       ".list-inline {list-style: none; margin:0; padding: 0}\n",
       ".list-inline>li {display: inline-block}\n",
       ".list-inline>li:not(:last-child)::after {content: \"\\00b7\"; padding: 0 .5ex}\n",
       "</style>\n",
       "<ol class=list-inline><li>1</li><li>1</li><li>1</li><li>8</li><li>24</li><li>29</li></ol>\n",
       "</li>\n",
       "</ol>\n"
      ],
      "text/latex": [
       "\\begin{enumerate}\n",
       "\\item \\begin{enumerate*}\n",
       "\\item 1\n",
       "\\item 1\n",
       "\\item 1\n",
       "\\item 8\n",
       "\\item 24\n",
       "\\item 29\n",
       "\\end{enumerate*}\n",
       "\n",
       "\\end{enumerate}\n"
      ],
      "text/markdown": [
       "1. 1. 1\n",
       "2. 1\n",
       "3. 1\n",
       "4. 8\n",
       "5. 24\n",
       "6. 29\n",
       "\n",
       "\n",
       "\n",
       "\n",
       "\n"
      ],
      "text/plain": [
       "[[1]]\n",
       "[1]  1  1  1  8 24 29\n",
       "attr(,\"match.length\")\n",
       "[1] 41  7  4 16  5 13\n",
       "attr(,\"index.type\")\n",
       "[1] \"chars\"\n",
       "attr(,\"useBytes\")\n",
       "[1] TRUE\n"
      ]
     },
     "metadata": {},
     "output_type": "display_data"
    },
    {
     "data": {
      "text/html": [
       "<ol>\n",
       "\t<li><style>\n",
       ".list-inline {list-style: none; margin:0; padding: 0}\n",
       ".list-inline>li {display: inline-block}\n",
       ".list-inline>li:not(:last-child)::after {content: \"\\00b7\"; padding: 0 .5ex}\n",
       "</style>\n",
       "<ol class=list-inline><li>'http://en.wikipedia.org/wiki/Data_science'</li><li>'http://'</li><li>'http'</li><li>'en.wikipedia.org'</li><li>'/wiki'</li><li>'/Data_science'</li></ol>\n",
       "</li>\n",
       "</ol>\n"
      ],
      "text/latex": [
       "\\begin{enumerate}\n",
       "\\item \\begin{enumerate*}\n",
       "\\item 'http://en.wikipedia.org/wiki/Data\\_science'\n",
       "\\item 'http://'\n",
       "\\item 'http'\n",
       "\\item 'en.wikipedia.org'\n",
       "\\item '/wiki'\n",
       "\\item '/Data\\_science'\n",
       "\\end{enumerate*}\n",
       "\n",
       "\\end{enumerate}\n"
      ],
      "text/markdown": [
       "1. 1. 'http://en.wikipedia.org/wiki/Data_science'\n",
       "2. 'http://'\n",
       "3. 'http'\n",
       "4. 'en.wikipedia.org'\n",
       "5. '/wiki'\n",
       "6. '/Data_science'\n",
       "\n",
       "\n",
       "\n",
       "\n",
       "\n"
      ],
      "text/plain": [
       "[[1]]\n",
       "[1] \"http://en.wikipedia.org/wiki/Data_science\"\n",
       "[2] \"http://\"                                  \n",
       "[3] \"http\"                                     \n",
       "[4] \"en.wikipedia.org\"                         \n",
       "[5] \"/wiki\"                                    \n",
       "[6] \"/Data_science\"                            \n"
      ]
     },
     "metadata": {},
     "output_type": "display_data"
    }
   ],
   "source": [
    "################################################################\n",
    "## A More Complex Example\n",
    "################################################################\n",
    "## an efficient way to extract multiple patterns in brackets\n",
    "x <- \"http://en.wikipedia.org/wiki/Data_science\"\n",
    "m <- regexec(\"^(([^:]+)://)?([^:/]+)(/[^/]+)(/.*)\", x)\n",
    "m\n",
    "regmatches(x, m)"
   ]
  },
  {
   "cell_type": "code",
   "execution_count": 10,
   "metadata": {},
   "outputs": [
    {
     "data": {
      "text/html": [
       "<ol>\n",
       "\t<li><style>\n",
       ".list-inline {list-style: none; margin:0; padding: 0}\n",
       ".list-inline>li {display: inline-block}\n",
       ".list-inline>li:not(:last-child)::after {content: \"\\00b7\"; padding: 0 .5ex}\n",
       "</style>\n",
       "<ol class=list-inline><li>1</li><li>1</li><li>1</li><li>9</li><li>20</li><li>25</li></ol>\n",
       "</li>\n",
       "</ol>\n"
      ],
      "text/latex": [
       "\\begin{enumerate}\n",
       "\\item \\begin{enumerate*}\n",
       "\\item 1\n",
       "\\item 1\n",
       "\\item 1\n",
       "\\item 9\n",
       "\\item 20\n",
       "\\item 25\n",
       "\\end{enumerate*}\n",
       "\n",
       "\\end{enumerate}\n"
      ],
      "text/markdown": [
       "1. 1. 1\n",
       "2. 1\n",
       "3. 1\n",
       "4. 9\n",
       "5. 20\n",
       "6. 25\n",
       "\n",
       "\n",
       "\n",
       "\n",
       "\n"
      ],
      "text/plain": [
       "[[1]]\n",
       "[1]  1  1  1  9 20 25\n",
       "attr(,\"match.length\")\n",
       "[1] 30  8  5 11  5  6\n",
       "attr(,\"index.type\")\n",
       "[1] \"chars\"\n",
       "attr(,\"useBytes\")\n",
       "[1] TRUE\n"
      ]
     },
     "metadata": {},
     "output_type": "display_data"
    },
    {
     "data": {
      "text/html": [
       "<ol>\n",
       "\t<li><style>\n",
       ".list-inline {list-style: none; margin:0; padding: 0}\n",
       ".list-inline>li {display: inline-block}\n",
       ".list-inline>li:not(:last-child)::after {content: \"\\00b7\"; padding: 0 .5ex}\n",
       "</style>\n",
       "<ol class=list-inline><li>'https://sph.uth.edu/dept/bads/'</li><li>'https://'</li><li>'https'</li><li>'sph.uth.edu'</li><li>'/dept'</li><li>'/bads/'</li></ol>\n",
       "</li>\n",
       "</ol>\n"
      ],
      "text/latex": [
       "\\begin{enumerate}\n",
       "\\item \\begin{enumerate*}\n",
       "\\item 'https://sph.uth.edu/dept/bads/'\n",
       "\\item 'https://'\n",
       "\\item 'https'\n",
       "\\item 'sph.uth.edu'\n",
       "\\item '/dept'\n",
       "\\item '/bads/'\n",
       "\\end{enumerate*}\n",
       "\n",
       "\\end{enumerate}\n"
      ],
      "text/markdown": [
       "1. 1. 'https://sph.uth.edu/dept/bads/'\n",
       "2. 'https://'\n",
       "3. 'https'\n",
       "4. 'sph.uth.edu'\n",
       "5. '/dept'\n",
       "6. '/bads/'\n",
       "\n",
       "\n",
       "\n",
       "\n",
       "\n"
      ],
      "text/plain": [
       "[[1]]\n",
       "[1] \"https://sph.uth.edu/dept/bads/\" \"https://\"                      \n",
       "[3] \"https\"                          \"sph.uth.edu\"                   \n",
       "[5] \"/dept\"                          \"/bads/\"                        \n"
      ]
     },
     "metadata": {},
     "output_type": "display_data"
    }
   ],
   "source": [
    "x <- \"https://sph.uth.edu/dept/bads/\"\n",
    "m <- regexec(\"^(([^:]+)://)?([^:/]+)(/[^/]+)(/.*)\", x)\n",
    "m\n",
    "regmatches(x, m)"
   ]
  },
  {
   "cell_type": "markdown",
   "metadata": {},
   "source": [
    "# Web Scraping"
   ]
  },
  {
   "cell_type": "code",
   "execution_count": 12,
   "metadata": {},
   "outputs": [
    {
     "data": {
      "text/html": [
       "'&lt;caption&gt;&lt;span class=\"nowrap\"&gt;IFR estimate per age group&lt;br /&gt;(to December 2020)&lt;/span&gt;&lt;sup id=\"cite_ref-EJE_levinetal_343-3\" class=\"reference\"&gt;&lt;a href=\"#cite_note-EJE_levinetal-343\"&gt;&amp;#91;343&amp;#93;&lt;/a&gt;&lt;/sup&gt;'"
      ],
      "text/latex": [
       "'<caption><span class=\"nowrap\">IFR estimate per age group<br />(to December 2020)</span><sup id=\"cite\\_ref-EJE\\_levinetal\\_343-3\" class=\"reference\"><a href=\"\\#cite\\_note-EJE\\_levinetal-343\">\\&\\#91;343\\&\\#93;</a></sup>'"
      ],
      "text/markdown": [
       "'&lt;caption&gt;&lt;span class=\"nowrap\"&gt;IFR estimate per age group&lt;br /&gt;(to December 2020)&lt;/span&gt;&lt;sup id=\"cite_ref-EJE_levinetal_343-3\" class=\"reference\"&gt;&lt;a href=\"#cite_note-EJE_levinetal-343\"&gt;&amp;#91;343&amp;#93;&lt;/a&gt;&lt;/sup&gt;'"
      ],
      "text/plain": [
       "[1] \"<caption><span class=\\\"nowrap\\\">IFR estimate per age group<br />(to December 2020)</span><sup id=\\\"cite_ref-EJE_levinetal_343-3\\\" class=\\\"reference\\\"><a href=\\\"#cite_note-EJE_levinetal-343\\\">&#91;343&#93;</a></sup>\""
      ]
     },
     "metadata": {},
     "output_type": "display_data"
    }
   ],
   "source": [
    "library(RCurl)\n",
    "theurl <- \"https://en.wikipedia.org/wiki/COVID-19\"\n",
    "a <- getURL(theurl)\n",
    "## format a (e.g. adding line breaks) for better readability\n",
    "a <- readLines(tc <- textConnection(a)); close(tc)\n",
    "a[grep(\"IFR estimate per age group\", a)] "
   ]
  },
  {
   "cell_type": "code",
   "execution_count": 16,
   "metadata": {},
   "outputs": [
    {
     "data": {
      "text/html": [
       "<strong>$`IFR estimate per age group(to December 2020)[343]`</strong> = <table>\n",
       "<caption>A data.frame: 8 × 2</caption>\n",
       "<thead>\n",
       "\t<tr><th scope=col>V1</th><th scope=col>V2</th></tr>\n",
       "\t<tr><th scope=col>&lt;chr&gt;</th><th scope=col>&lt;chr&gt;</th></tr>\n",
       "</thead>\n",
       "<tbody>\n",
       "\t<tr><td>Age group</td><td>IFR   </td></tr>\n",
       "\t<tr><td>0â€“34   </td><td>0.004%</td></tr>\n",
       "\t<tr><td>35â€“44  </td><td>0.068%</td></tr>\n",
       "\t<tr><td>45â€“54  </td><td>0.23% </td></tr>\n",
       "\t<tr><td>55â€“64  </td><td>0.75% </td></tr>\n",
       "\t<tr><td>65â€“74  </td><td>2.5%  </td></tr>\n",
       "\t<tr><td>75â€“84  </td><td>8.5%  </td></tr>\n",
       "\t<tr><td>85â€‰+   </td><td>28.3% </td></tr>\n",
       "</tbody>\n",
       "</table>\n"
      ],
      "text/latex": [
       "\\textbf{\\$`IFR estimate per age group(to December 2020){[}343{]}`} = A data.frame: 8 × 2\n",
       "\\begin{tabular}{ll}\n",
       " V1 & V2\\\\\n",
       " <chr> & <chr>\\\\\n",
       "\\hline\n",
       "\t Age group & IFR   \\\\\n",
       "\t 0â€“34    & 0.004\\%\\\\\n",
       "\t 35â€“44   & 0.068\\%\\\\\n",
       "\t 45â€“54   & 0.23\\% \\\\\n",
       "\t 55â€“64   & 0.75\\% \\\\\n",
       "\t 65â€“74   & 2.5\\%  \\\\\n",
       "\t 75â€“84   & 8.5\\%  \\\\\n",
       "\t 85â€‰+    & 28.3\\% \\\\\n",
       "\\end{tabular}\n"
      ],
      "text/markdown": [
       "**$`IFR estimate per age group(to December 2020)[343]`** = \n",
       "A data.frame: 8 × 2\n",
       "\n",
       "| V1 &lt;chr&gt; | V2 &lt;chr&gt; |\n",
       "|---|---|\n",
       "| Age group | IFR    |\n",
       "| 0â€“34    | 0.004% |\n",
       "| 35â€“44   | 0.068% |\n",
       "| 45â€“54   | 0.23%  |\n",
       "| 55â€“64   | 0.75%  |\n",
       "| 65â€“74   | 2.5%   |\n",
       "| 75â€“84   | 8.5%   |\n",
       "| 85â€‰+    | 28.3%  |\n",
       "\n"
      ],
      "text/plain": [
       "$`IFR estimate per age group(to December 2020)[343]`\n",
       "         V1     V2\n",
       "1 Age group    IFR\n",
       "2    0â€“34 0.004%\n",
       "3   35â€“44 0.068%\n",
       "4   45â€“54  0.23%\n",
       "5   55â€“64  0.75%\n",
       "6   65â€“74   2.5%\n",
       "7   75â€“84   8.5%\n",
       "8    85â€‰+  28.3%\n"
      ]
     },
     "metadata": {},
     "output_type": "display_data"
    }
   ],
   "source": [
    "library(XML)\n",
    "tbl <- readHTMLTable(a)\n",
    "tbl[2]   "
   ]
  },
  {
   "cell_type": "markdown",
   "metadata": {},
   "source": [
    "# Test"
   ]
  },
  {
   "cell_type": "code",
   "execution_count": 7,
   "metadata": {},
   "outputs": [
    {
     "data": {
      "text/html": [
       "<style>\n",
       ".list-inline {list-style: none; margin:0; padding: 0}\n",
       ".list-inline>li {display: inline-block}\n",
       ".list-inline>li:not(:last-child)::after {content: \"\\00b7\"; padding: 0 .5ex}\n",
       "</style>\n",
       "<ol class=list-inline><li>1</li><li>1</li><li>-1</li><li>-1</li><li>1</li></ol>\n"
      ],
      "text/latex": [
       "\\begin{enumerate*}\n",
       "\\item 1\n",
       "\\item 1\n",
       "\\item -1\n",
       "\\item -1\n",
       "\\item 1\n",
       "\\end{enumerate*}\n"
      ],
      "text/markdown": [
       "1. 1\n",
       "2. 1\n",
       "3. -1\n",
       "4. -1\n",
       "5. 1\n",
       "\n",
       "\n"
      ],
      "text/plain": [
       "[1]  1  1 -1 -1  1\n",
       "attr(,\"match.length\")\n",
       "[1]  3  1 -1 -1  1\n",
       "attr(,\"index.type\")\n",
       "[1] \"chars\"\n",
       "attr(,\"useBytes\")\n",
       "[1] TRUE"
      ]
     },
     "metadata": {},
     "output_type": "display_data"
    },
    {
     "data": {
      "text/html": [
       "<style>\n",
       ".list-inline {list-style: none; margin:0; padding: 0}\n",
       ".list-inline>li {display: inline-block}\n",
       ".list-inline>li:not(:last-child)::after {content: \"\\00b7\"; padding: 0 .5ex}\n",
       "</style>\n",
       "<ol class=list-inline><li>1</li><li>-1</li><li>-1</li><li>-1</li><li>-1</li></ol>\n"
      ],
      "text/latex": [
       "\\begin{enumerate*}\n",
       "\\item 1\n",
       "\\item -1\n",
       "\\item -1\n",
       "\\item -1\n",
       "\\item -1\n",
       "\\end{enumerate*}\n"
      ],
      "text/markdown": [
       "1. 1\n",
       "2. -1\n",
       "3. -1\n",
       "4. -1\n",
       "5. -1\n",
       "\n",
       "\n"
      ],
      "text/plain": [
       "[1]  1 -1 -1 -1 -1\n",
       "attr(,\"match.length\")\n",
       "[1]  3 -1 -1 -1 -1\n",
       "attr(,\"index.type\")\n",
       "[1] \"chars\"\n",
       "attr(,\"useBytes\")\n",
       "[1] TRUE"
      ]
     },
     "metadata": {},
     "output_type": "display_data"
    },
    {
     "data": {
      "text/html": [
       "<style>\n",
       ".list-inline {list-style: none; margin:0; padding: 0}\n",
       ".list-inline>li {display: inline-block}\n",
       ".list-inline>li:not(:last-child)::after {content: \"\\00b7\"; padding: 0 .5ex}\n",
       "</style>\n",
       "<ol class=list-inline><li>-1</li><li>-1</li><li>1</li><li>-1</li><li>-1</li></ol>\n"
      ],
      "text/latex": [
       "\\begin{enumerate*}\n",
       "\\item -1\n",
       "\\item -1\n",
       "\\item 1\n",
       "\\item -1\n",
       "\\item -1\n",
       "\\end{enumerate*}\n"
      ],
      "text/markdown": [
       "1. -1\n",
       "2. -1\n",
       "3. 1\n",
       "4. -1\n",
       "5. -1\n",
       "\n",
       "\n"
      ],
      "text/plain": [
       "[1] -1 -1  1 -1 -1\n",
       "attr(,\"match.length\")\n",
       "[1] -1 -1  2 -1 -1\n",
       "attr(,\"index.type\")\n",
       "[1] \"chars\"\n",
       "attr(,\"useBytes\")\n",
       "[1] TRUE"
      ]
     },
     "metadata": {},
     "output_type": "display_data"
    }
   ],
   "source": [
    "test_strings <- c(\"Zab\", \"H\", \"aZc\", \"b\", \"XXcc\")\n",
    "regexpr(\"^[A-Z][a-z]*\", test_strings)\n",
    "regexpr(\"^[A-Z][a-z]+\", test_strings)\n",
    "regexpr(\"[^A-Z][^a-z]+\", test_strings)"
   ]
  }
 ],
 "metadata": {
  "kernelspec": {
   "display_name": "R",
   "language": "R",
   "name": "ir"
  },
  "language_info": {
   "codemirror_mode": "r",
   "file_extension": ".r",
   "mimetype": "text/x-r-source",
   "name": "R",
   "pygments_lexer": "r",
   "version": "4.0.3"
  },
  "toc": {
   "base_numbering": 1,
   "nav_menu": {},
   "number_sections": true,
   "sideBar": true,
   "skip_h1_title": false,
   "title_cell": "Table of Contents",
   "title_sidebar": "Contents",
   "toc_cell": false,
   "toc_position": {},
   "toc_section_display": true,
   "toc_window_display": false
  }
 },
 "nbformat": 4,
 "nbformat_minor": 4
}
