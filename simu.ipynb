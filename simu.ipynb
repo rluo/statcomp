{
 "cells": [
  {
   "cell_type": "markdown",
   "metadata": {},
   "source": [
    "# Numerical Integration"
   ]
  },
  {
   "cell_type": "code",
   "execution_count": 16,
   "metadata": {},
   "outputs": [],
   "source": [
    "trapezoidal_rule <- function(f, a, b, n) {\n",
    "  # f is the function to integrate\n",
    "  # [a, b] is the interval over which to integrate\n",
    "  # n is the number of trapezoids\n",
    "  \n",
    "  h <- (b - a) / n\n",
    "  x <- a + h * seq(0, n)\n",
    "  y <- sapply(x, f)\n",
    "  \n",
    "  integral <- h * (0.5 * (y[1] + y[length(y)]) + sum(y[2:(length(y)-1)]))\n",
    "  integral\n",
    "}"
   ]
  },
  {
   "cell_type": "code",
   "execution_count": 21,
   "metadata": {},
   "outputs": [
    {
     "name": "stdout",
     "output_type": "stream",
     "text": [
      "[1] 0.34\n"
     ]
    }
   ],
   "source": [
    "# Test\n",
    "f <- function(x) x^2\n",
    "a <- 0\n",
    "b <- 1\n",
    "n <- 5\n",
    "print(trapezoidal_rule(f, a, b, n))  # Should be close to 1/3"
   ]
  },
  {
   "cell_type": "code",
   "execution_count": 22,
   "metadata": {},
   "outputs": [
    {
     "name": "stdout",
     "output_type": "stream",
     "text": [
      "[1] 0.335\n"
     ]
    }
   ],
   "source": [
    "n <- 10\n",
    "print(trapezoidal_rule(f, a, b, n))  # Should be close to 1/3"
   ]
  },
  {
   "cell_type": "code",
   "execution_count": 23,
   "metadata": {},
   "outputs": [
    {
     "name": "stdout",
     "output_type": "stream",
     "text": [
      "[1] 0.3334\n"
     ]
    }
   ],
   "source": [
    "n <- 50\n",
    "print(trapezoidal_rule(f, a, b, n))  # Should be close to 1/3"
   ]
  },
  {
   "cell_type": "code",
   "execution_count": 24,
   "metadata": {},
   "outputs": [
    {
     "name": "stdout",
     "output_type": "stream",
     "text": [
      "[1] 0.33335\n"
     ]
    }
   ],
   "source": [
    "n <- 100\n",
    "print(trapezoidal_rule(f, a, b, n))  # Should be close to 1/3"
   ]
  },
  {
   "cell_type": "code",
   "execution_count": 25,
   "metadata": {},
   "outputs": [
    {
     "name": "stdout",
     "output_type": "stream",
     "text": [
      "[1] 0.3333335\n"
     ]
    }
   ],
   "source": [
    "n <- 1000\n",
    "print(trapezoidal_rule(f, a, b, n))  # Should be close to 1/3"
   ]
  },
  {
   "cell_type": "markdown",
   "metadata": {},
   "source": [
    "# Parallel"
   ]
  },
  {
   "cell_type": "code",
   "execution_count": 30,
   "metadata": {},
   "outputs": [],
   "source": [
    "library(parallel)\n",
    "\n",
    "estimate_pi <- function(n, seed=100) {\n",
    "  count <- 0\n",
    "  set.seed(3*seed*n)\n",
    "  for (i in 1:n) {\n",
    "    x <- runif(1, -1, 1)\n",
    "    y <- runif(1, -1, 1)\n",
    "    if (x^2 + y^2 <= 1) {\n",
    "      count <- count + 1\n",
    "    }\n",
    "  }\n",
    "  4 * count / n\n",
    "}\n",
    "\n",
    "\n",
    "# Test\n",
    "n <- 10000 # per run\n",
    "n_runs <- 1000\n",
    "num_clusters <- detectCores()  # use the number of available cores"
   ]
  },
  {
   "cell_type": "code",
   "execution_count": 36,
   "metadata": {},
   "outputs": [
    {
     "data": {
      "text/html": [
       "24"
      ],
      "text/latex": [
       "24"
      ],
      "text/markdown": [
       "24"
      ],
      "text/plain": [
       "[1] 24"
      ]
     },
     "metadata": {},
     "output_type": "display_data"
    }
   ],
   "source": [
    "num_clusters"
   ]
  },
  {
   "cell_type": "code",
   "execution_count": 38,
   "metadata": {},
   "outputs": [
    {
     "data": {
      "text/html": [
       "3.14159265358979"
      ],
      "text/latex": [
       "3.14159265358979"
      ],
      "text/markdown": [
       "3.14159265358979"
      ],
      "text/plain": [
       "[1] 3.141593"
      ]
     },
     "metadata": {},
     "output_type": "display_data"
    }
   ],
   "source": [
    "pi"
   ]
  },
  {
   "cell_type": "code",
   "execution_count": 32,
   "metadata": {},
   "outputs": [
    {
     "data": {
      "text/plain": [
       "   user  system elapsed \n",
       "690.323  29.800  35.148 "
      ]
     },
     "metadata": {},
     "output_type": "display_data"
    }
   ],
   "source": [
    "system.time(re <- mclapply(1:n_runs, function(j) estimate_pi(n, seed = j), mc.cores = num_clusters))"
   ]
  },
  {
   "cell_type": "code",
   "execution_count": 33,
   "metadata": {},
   "outputs": [
    {
     "data": {
      "text/html": [
       "3.14136952"
      ],
      "text/latex": [
       "3.14136952"
      ],
      "text/markdown": [
       "3.14136952"
      ],
      "text/plain": [
       "[1] 3.14137"
      ]
     },
     "metadata": {},
     "output_type": "display_data"
    }
   ],
   "source": [
    "mean(unlist(re))"
   ]
  },
  {
   "cell_type": "markdown",
   "metadata": {},
   "source": [
    "## non-parallel"
   ]
  },
  {
   "cell_type": "code",
   "execution_count": 34,
   "metadata": {},
   "outputs": [
    {
     "data": {
      "text/plain": [
       "   user  system elapsed \n",
       "320.865  51.037 373.471 "
      ]
     },
     "metadata": {},
     "output_type": "display_data"
    }
   ],
   "source": [
    "system.time(re <- lapply(1:n_runs, function(j) estimate_pi(n, seed = j) ) )"
   ]
  },
  {
   "cell_type": "code",
   "execution_count": 35,
   "metadata": {},
   "outputs": [
    {
     "data": {
      "text/html": [
       "3.14136952"
      ],
      "text/latex": [
       "3.14136952"
      ],
      "text/markdown": [
       "3.14136952"
      ],
      "text/plain": [
       "[1] 3.14137"
      ]
     },
     "metadata": {},
     "output_type": "display_data"
    }
   ],
   "source": [
    "mean(unlist(re))"
   ]
  }
 ],
 "metadata": {
  "kernelspec": {
   "display_name": "R",
   "language": "R",
   "name": "ir"
  },
  "language_info": {
   "codemirror_mode": "r",
   "file_extension": ".r",
   "mimetype": "text/x-r-source",
   "name": "R",
   "pygments_lexer": "r",
   "version": "4.0.3"
  },
  "toc": {
   "base_numbering": 1,
   "nav_menu": {},
   "number_sections": true,
   "sideBar": true,
   "skip_h1_title": false,
   "title_cell": "Table of Contents",
   "title_sidebar": "Contents",
   "toc_cell": false,
   "toc_position": {},
   "toc_section_display": true,
   "toc_window_display": false
  }
 },
 "nbformat": 4,
 "nbformat_minor": 4
}
