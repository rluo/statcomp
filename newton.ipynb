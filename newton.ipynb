{
 "cells": [
  {
   "cell_type": "markdown",
   "metadata": {},
   "source": [
    "# Solving the least squares problem"
   ]
  },
  {
   "cell_type": "code",
   "execution_count": 4,
   "metadata": {},
   "outputs": [],
   "source": [
    "ls_newton <- function(y, X, tolerance = 1e-06, max_iterations = 100) {\n",
    "    ## assuming X contains the intercept\n",
    "    p <- ncol(X)\n",
    "    beta <- rep(0, p)\n",
    "    for (iteration in 1:max_iterations) {\n",
    "        r <-  y - X %*% beta\n",
    "        step <- solve(t(X) %*% X) %*% t(X) %*% r\n",
    "        beta <- beta + step\n",
    "        if (max(abs(step)) < tolerance) {\n",
    "            break\n",
    "        }\n",
    "    }\n",
    "    return(beta)\n",
    "}"
   ]
  },
  {
   "cell_type": "code",
   "execution_count": 5,
   "metadata": {},
   "outputs": [],
   "source": [
    "set.seed(123)\n",
    "n <- 100  # Number of data points\n",
    "p <- 3    # Number of predictor variables\n",
    "X <- matrix(rnorm(n * p), ncol = p)  # Create a design matrix with p columns\n",
    "beta_true <- c(2, 3, 1)  # True coefficients\n",
    "y <- X %*% beta_true + rnorm(n)  # Generate response variable"
   ]
  },
  {
   "cell_type": "code",
   "execution_count": 6,
   "metadata": {},
   "outputs": [
    {
     "data": {
      "text/html": [
       "<table>\n",
       "<caption>A matrix: 3 × 1 of type dbl</caption>\n",
       "<tbody>\n",
       "\t<tr><td>1.9422453</td></tr>\n",
       "\t<tr><td>3.0483506</td></tr>\n",
       "\t<tr><td>0.9397596</td></tr>\n",
       "</tbody>\n",
       "</table>\n"
      ],
      "text/latex": [
       "A matrix: 3 × 1 of type dbl\n",
       "\\begin{tabular}{l}\n",
       "\t 1.9422453\\\\\n",
       "\t 3.0483506\\\\\n",
       "\t 0.9397596\\\\\n",
       "\\end{tabular}\n"
      ],
      "text/markdown": [
       "\n",
       "A matrix: 3 × 1 of type dbl\n",
       "\n",
       "| 1.9422453 |\n",
       "| 3.0483506 |\n",
       "| 0.9397596 |\n",
       "\n"
      ],
      "text/plain": [
       "     [,1]     \n",
       "[1,] 1.9422453\n",
       "[2,] 3.0483506\n",
       "[3,] 0.9397596"
      ]
     },
     "metadata": {},
     "output_type": "display_data"
    }
   ],
   "source": [
    "ls_newton(y, X)"
   ]
  }
 ],
 "metadata": {
  "kernelspec": {
   "display_name": "R",
   "language": "R",
   "name": "ir"
  },
  "language_info": {
   "codemirror_mode": "r",
   "file_extension": ".r",
   "mimetype": "text/x-r-source",
   "name": "R",
   "pygments_lexer": "r",
   "version": "4.0.3"
  },
  "toc": {
   "base_numbering": 1,
   "nav_menu": {},
   "number_sections": true,
   "sideBar": true,
   "skip_h1_title": false,
   "title_cell": "Table of Contents",
   "title_sidebar": "Contents",
   "toc_cell": false,
   "toc_position": {},
   "toc_section_display": true,
   "toc_window_display": false
  }
 },
 "nbformat": 4,
 "nbformat_minor": 4
}
