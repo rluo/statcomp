{
 "cells": [
  {
   "cell_type": "markdown",
   "metadata": {},
   "source": [
    "# Goal"
   ]
  },
  {
   "cell_type": "markdown",
   "metadata": {},
   "source": [
    "We will implement an auto grader in R that evaluate student homework submissions. All students will submit their solutions as **R functions** (see example submissions below)."
   ]
  },
  {
   "cell_type": "markdown",
   "metadata": {},
   "source": [
    "The grader will iterate over different inputs and compare the outputs from student **functions** with the outputs from a known solution **function**. "
   ]
  },
  {
   "cell_type": "markdown",
   "metadata": {},
   "source": [
    "The grader will capture the info needed (e.g. name, accuracy, memory usage, time) for grading purposes."
   ]
  },
  {
   "cell_type": "markdown",
   "metadata": {},
   "source": [
    "We will use the **n_dna** problem from HW1 as an example."
   ]
  },
  {
   "cell_type": "markdown",
   "metadata": {},
   "source": [
    "# Student submissions"
   ]
  },
  {
   "cell_type": "code",
   "execution_count": 4,
   "metadata": {},
   "outputs": [
    {
     "data": {
      "text/html": [
       "<style>\n",
       ".list-inline {list-style: none; margin:0; padding: 0}\n",
       ".list-inline>li {display: inline-block}\n",
       ".list-inline>li:not(:last-child)::after {content: \"\\00b7\"; padding: 0 .5ex}\n",
       "</style>\n",
       "<ol class=list-inline><li>'student1.R'</li><li>'student2.R'</li><li>'student3.R'</li><li>'student4.R'</li><li>'student5.R'</li></ol>\n"
      ],
      "text/latex": [
       "\\begin{enumerate*}\n",
       "\\item 'student1.R'\n",
       "\\item 'student2.R'\n",
       "\\item 'student3.R'\n",
       "\\item 'student4.R'\n",
       "\\item 'student5.R'\n",
       "\\end{enumerate*}\n"
      ],
      "text/markdown": [
       "1. 'student1.R'\n",
       "2. 'student2.R'\n",
       "3. 'student3.R'\n",
       "4. 'student4.R'\n",
       "5. 'student5.R'\n",
       "\n",
       "\n"
      ],
      "text/plain": [
       "[1] \"student1.R\" \"student2.R\" \"student3.R\" \"student4.R\" \"student5.R\""
      ]
     },
     "metadata": {},
     "output_type": "display_data"
    }
   ],
   "source": [
    "system(\"ls dna_example\", intern=TRUE)"
   ]
  },
  {
   "cell_type": "code",
   "execution_count": 11,
   "metadata": {},
   "outputs": [
    {
     "data": {
      "text/html": [
       "<style>\n",
       ".list-inline {list-style: none; margin:0; padding: 0}\n",
       ".list-inline>li {display: inline-block}\n",
       ".list-inline>li:not(:last-child)::after {content: \"\\00b7\"; padding: 0 .5ex}\n",
       "</style>\n",
       "<ol class=list-inline><li>'author'</li><li>'&lt;-'</li><li>'Student1'</li><li>'n_dna'</li><li>'&lt;-'</li><li>'function(a)'</li><li>'{'</li><li>'s'</li><li>'&lt;-'</li><li>'integer(a)'</li><li>'s[1]'</li><li>'&lt;-'</li><li>'4'</li><li>'if'</li><li>'(a'</li><li>'=='</li><li>'0)'</li><li>'{'</li><li>'return(0)'</li><li>'}'</li><li>'else'</li><li>'if'</li><li>'(a'</li><li>'=='</li><li>'1)'</li><li>'{'</li><li>'return(s[a])'</li><li>'}'</li><li>'else'</li><li>'{'</li><li>'for'</li><li>'(i'</li><li>'in'</li><li>'2:a)'</li><li>'{'</li><li>'s[i]'</li><li>'&lt;-'</li><li>'s[i'</li><li>'-'</li><li>'1]'</li><li>'+'</li><li>'(i'</li><li>'+'</li><li>'1)'</li><li>'*'</li><li>'(i'</li><li>'+'</li><li>'2)'</li><li>'/'</li><li>'2'</li><li>'}'</li><li>'}'</li><li>'return(s[a])'</li><li>'}'</li></ol>\n"
      ],
      "text/latex": [
       "\\begin{enumerate*}\n",
       "\\item 'author'\n",
       "\\item '<-'\n",
       "\\item 'Student1'\n",
       "\\item 'n\\_dna'\n",
       "\\item '<-'\n",
       "\\item 'function(a)'\n",
       "\\item '\\{'\n",
       "\\item 's'\n",
       "\\item '<-'\n",
       "\\item 'integer(a)'\n",
       "\\item 's{[}1{]}'\n",
       "\\item '<-'\n",
       "\\item '4'\n",
       "\\item 'if'\n",
       "\\item '(a'\n",
       "\\item '=='\n",
       "\\item '0)'\n",
       "\\item '\\{'\n",
       "\\item 'return(0)'\n",
       "\\item '\\}'\n",
       "\\item 'else'\n",
       "\\item 'if'\n",
       "\\item '(a'\n",
       "\\item '=='\n",
       "\\item '1)'\n",
       "\\item '\\{'\n",
       "\\item 'return(s{[}a{]})'\n",
       "\\item '\\}'\n",
       "\\item 'else'\n",
       "\\item '\\{'\n",
       "\\item 'for'\n",
       "\\item '(i'\n",
       "\\item 'in'\n",
       "\\item '2:a)'\n",
       "\\item '\\{'\n",
       "\\item 's{[}i{]}'\n",
       "\\item '<-'\n",
       "\\item 's{[}i'\n",
       "\\item '-'\n",
       "\\item '1{]}'\n",
       "\\item '+'\n",
       "\\item '(i'\n",
       "\\item '+'\n",
       "\\item '1)'\n",
       "\\item '*'\n",
       "\\item '(i'\n",
       "\\item '+'\n",
       "\\item '2)'\n",
       "\\item '/'\n",
       "\\item '2'\n",
       "\\item '\\}'\n",
       "\\item '\\}'\n",
       "\\item 'return(s{[}a{]})'\n",
       "\\item '\\}'\n",
       "\\end{enumerate*}\n"
      ],
      "text/markdown": [
       "1. 'author'\n",
       "2. '&lt;-'\n",
       "3. 'Student1'\n",
       "4. 'n_dna'\n",
       "5. '&lt;-'\n",
       "6. 'function(a)'\n",
       "7. '{'\n",
       "8. 's'\n",
       "9. '&lt;-'\n",
       "10. 'integer(a)'\n",
       "11. 's[1]'\n",
       "12. '&lt;-'\n",
       "13. '4'\n",
       "14. 'if'\n",
       "15. '(a'\n",
       "16. '=='\n",
       "17. '0)'\n",
       "18. '{'\n",
       "19. 'return(0)'\n",
       "20. '}'\n",
       "21. 'else'\n",
       "22. 'if'\n",
       "23. '(a'\n",
       "24. '=='\n",
       "25. '1)'\n",
       "26. '{'\n",
       "27. 'return(s[a])'\n",
       "28. '}'\n",
       "29. 'else'\n",
       "30. '{'\n",
       "31. 'for'\n",
       "32. '(i'\n",
       "33. 'in'\n",
       "34. '2:a)'\n",
       "35. '{'\n",
       "36. 's[i]'\n",
       "37. '&lt;-'\n",
       "38. 's[i'\n",
       "39. '-'\n",
       "40. '1]'\n",
       "41. '+'\n",
       "42. '(i'\n",
       "43. '+'\n",
       "44. '1)'\n",
       "45. '*'\n",
       "46. '(i'\n",
       "47. '+'\n",
       "48. '2)'\n",
       "49. '/'\n",
       "50. '2'\n",
       "51. '}'\n",
       "52. '}'\n",
       "53. 'return(s[a])'\n",
       "54. '}'\n",
       "\n",
       "\n"
      ],
      "text/plain": [
       " [1] \"author\"       \"<-\"           \"Student1\"     \"n_dna\"        \"<-\"          \n",
       " [6] \"function(a)\"  \"{\"            \"s\"            \"<-\"           \"integer(a)\"  \n",
       "[11] \"s[1]\"         \"<-\"           \"4\"            \"if\"           \"(a\"          \n",
       "[16] \"==\"           \"0)\"           \"{\"            \"return(0)\"    \"}\"           \n",
       "[21] \"else\"         \"if\"           \"(a\"           \"==\"           \"1)\"          \n",
       "[26] \"{\"            \"return(s[a])\" \"}\"            \"else\"         \"{\"           \n",
       "[31] \"for\"          \"(i\"           \"in\"           \"2:a)\"         \"{\"           \n",
       "[36] \"s[i]\"         \"<-\"           \"s[i\"          \"-\"            \"1]\"          \n",
       "[41] \"+\"            \"(i\"           \"+\"            \"1)\"           \"*\"           \n",
       "[46] \"(i\"           \"+\"            \"2)\"           \"/\"            \"2\"           \n",
       "[51] \"}\"            \"}\"            \"return(s[a])\" \"}\"           "
      ]
     },
     "metadata": {},
     "output_type": "display_data"
    }
   ],
   "source": [
    "scan(\"dna_example/student1.R\", what=\"text\")"
   ]
  },
  {
   "cell_type": "code",
   "execution_count": 13,
   "metadata": {},
   "outputs": [],
   "source": [
    "print_text_file <- function(fileName) {\n",
    "    conn <- file(fileName, open = \"r\")\n",
    "    linn <- readLines(conn)\n",
    "    for (i in 1:length(linn)) {\n",
    "        print(linn[i])\n",
    "    }\n",
    "    close(conn)\n",
    "}"
   ]
  },
  {
   "cell_type": "code",
   "execution_count": 14,
   "metadata": {},
   "outputs": [
    {
     "name": "stdout",
     "output_type": "stream",
     "text": [
      "[1] \"\"\n",
      "[1] \"author <- \\\"Student1\\\"\"\n",
      "[1] \"\"\n",
      "[1] \"n_dna <- function(a) {\"\n",
      "[1] \"    s <- integer(a)\"\n",
      "[1] \"    s[1] <- 4\"\n",
      "[1] \"    if (a == 0) {\"\n",
      "[1] \"        return(0)\"\n",
      "[1] \"    }\"\n",
      "[1] \"    else if (a == 1) {\"\n",
      "[1] \"        return(s[a])\"\n",
      "[1] \"    }\"\n",
      "[1] \"    else {\"\n",
      "[1] \"        for (i in 2:a) {\"\n",
      "[1] \"            s[i] <- s[i - 1] + (i + 1) * (i + 2) / 2\"\n",
      "[1] \"        }\"\n",
      "[1] \"    }\"\n",
      "[1] \"    return(s[a])\"\n",
      "[1] \"}\"\n"
     ]
    }
   ],
   "source": [
    "print_text_file(\"dna_example/student1.R\")"
   ]
  },
  {
   "cell_type": "code",
   "execution_count": 46,
   "metadata": {},
   "outputs": [
    {
     "name": "stdout",
     "output_type": "stream",
     "text": [
      "[1] \"author <- \\\"student2\\\"\"\n",
      "[1] \"\"\n",
      "[1] \"n_dna <- function(n) {\"\n",
      "[1] \"    if (n == 1) {\"\n",
      "[1] \"        return(4)\"\n",
      "[1] \"    }\"\n",
      "[1] \"    combination <- matrix(0, n, 4) # create a 2d array\"\n",
      "[1] \"    combination[1, ] <- 1 # first row is 1 for all four nucleotides\"\n",
      "[1] \"    for (i in 2:n) {\"\n",
      "[1] \"        combination[i, 1] <- combination[i - 1, 1] + combination[i - 1, 2] +\"\n",
      "[1] \"            combination[i - 1, 3] + combination[i - 1, 4]\"\n",
      "[1] \"        combination[i, 2] <- combination[i - 1, 1] + combination[i - 1, 2] +\"\n",
      "[1] \"            combination[i - 1, 3]\"\n",
      "[1] \"        combination[i, 3] <- combination[i - 1, 1] + combination[i - 1, 2]\"\n",
      "[1] \"        combination[i, 4] <- combination[i - 1, 1]\"\n",
      "[1] \"    }\"\n",
      "[1] \"    result <- sum(combination[n, ])\"\n",
      "[1] \"    return(result)\"\n",
      "[1] \"}\"\n"
     ]
    }
   ],
   "source": [
    "print_text_file(\"dna_example/student2.R\")"
   ]
  },
  {
   "cell_type": "code",
   "execution_count": 47,
   "metadata": {},
   "outputs": [
    {
     "name": "stdout",
     "output_type": "stream",
     "text": [
      "[1] \"author <- \\\"student3\\\"\"\n",
      "[1] \"\"\n",
      "[1] \"n_dna <- function(n) {\"\n",
      "[1] \"    return(length(n_loop(n)))\"\n",
      "[1] \"}\"\n",
      "[1] \"n_loop <- function(n) {\"\n",
      "[1] \"    if (n == 1) {\"\n",
      "[1] \"        return(n_count(1))\"\n",
      "[1] \"    }\"\n",
      "[1] \"    else {\"\n",
      "[1] \"        return(n_count(n_loop(n - 1)))\"\n",
      "[1] \"    }\"\n",
      "[1] \"}\"\n",
      "[1] \"n_count <- function(x) {\"\n",
      "[1] \"    len <- length(x)\"\n",
      "[1] \"    if (len == 1) {\"\n",
      "[1] \"        return(c(x:4))\"\n",
      "[1] \"    }\"\n",
      "[1] \"    else {\"\n",
      "[1] \"        return(c(x[1]:4, n_count(x[-1])))\"\n",
      "[1] \"    }\"\n",
      "[1] \"}\"\n"
     ]
    }
   ],
   "source": [
    "print_text_file(\"dna_example/student3.R\")"
   ]
  },
  {
   "cell_type": "markdown",
   "metadata": {},
   "source": [
    "# Run auto grader"
   ]
  },
  {
   "cell_type": "markdown",
   "metadata": {},
   "source": [
    "## Grader script"
   ]
  },
  {
   "cell_type": "code",
   "execution_count": 23,
   "metadata": {},
   "outputs": [
    {
     "name": "stdout",
     "output_type": "stream",
     "text": [
      "[1] \"for f in dna_example/*.R; do\"\n",
      "[1] \"    docker run -ti --rm -v \\\"$PWD\\\":/root -w /root -u root rossiluo/autograder:v1 Rscript --vanilla score_sub.R $f\"\n",
      "[1] \"done\"\n"
     ]
    }
   ],
   "source": [
    "print_text_file(\"run_autograder.sh\")"
   ]
  },
  {
   "cell_type": "code",
   "execution_count": 44,
   "metadata": {},
   "outputs": [
    {
     "name": "stdout",
     "output_type": "stream",
     "text": [
      "[1] \"#!/usr/local/bin/Rscript\"\n",
      "[1] \"\"\n",
      "[1] \"## run this script with student's submission file name test_sub.R\"\n",
      "[1] \"## Rscript --vanilla  score_sub.R  test_sub.R\"\n",
      "[1] \"## modify solution file name for each assignment\"\n",
      "[1] \"## bash script\"\n",
      "[1] \"# for f in hw2_submissions/*.R; do\"\n",
      "[1] \"# docker run -ti --rm -v \\\"$PWD\\\":/root -w /root -u root rossiluo/autograder:v1 Rscript --vanilla score_sub.R $f\"\n",
      "[1] \"# ##  Rscript --vanilla score_sub.R ${f}\"\n",
      "[1] \"# done\"\n",
      "[1] \"\"\n",
      "[1] \"args <- commandArgs(trailingOnly = TRUE)\"\n",
      "[1] \"\"\n",
      "[1] \"if (length(args) == 0) {\"\n",
      "[1] \"    sub_file_name <- \\\"test_sub.R\\\"\"\n",
      "[1] \"} else {\"\n",
      "[1] \"    sub_file_name <- args[1]\"\n",
      "[1] \"}\"\n",
      "[1] \"\"\n",
      "[1] \"# install.packages('peakRAM', repos = \\\"https://cloud.r-project.org\\\")\"\n",
      "[1] \"library(peakRAM)\"\n",
      "[1] \"\"\n",
      "[1] \"output_file_name <- \\\"autograder_result.csv\\\"\"\n",
      "[1] \"\"\n",
      "[1] \"sol_file_name <- \\\"roman_solution.R\\\"\"\n",
      "[1] \"sol_file_name <- \\\"num_step_ways_solution.R\\\"\"\n",
      "[1] \"sol_file_name <- \\\"mid_solution.R\\\"\"\n",
      "[1] \"sol_file_name <- \\\"dna_solution.R\\\"\"\n",
      "[1] \"sol_env <- new.env()\"\n",
      "[1] \"sys.source(sol_file_name, sol_env)\"\n",
      "[1] \"\"\n",
      "[1] \"# prob func names\"\n",
      "[1] \"prob_names <- c(\\\"n_dna\\\")\"\n",
      "[1] \"\"\n",
      "[1] \"## load submission file\"\n",
      "[1] \"# sub_file_name <- \\\"test_sub.R\\\"\"\n",
      "[1] \"sub_env <- new.env()\"\n",
      "[1] \"loading_time_sec <- system.time(sys.source(sub_file_name, sub_env))[3]\"\n",
      "[1] \"author <- get(\\\"author\\\", sub_env)\"\n",
      "[1] \"\"\n",
      "[1] \"print(author)\"\n",
      "[1] \"for (p_name in prob_names) {\"\n",
      "[1] \"    sub_fun <- sub_env[[p_name]] # get(p_name, sub_env)\"\n",
      "[1] \"    sol_fun <- sol_env[[p_name]] # get(p_name, sol_env)\"\n",
      "[1] \"    input_case_lt <- sol_env[[paste0(p_name, \\\"_input_lt\\\")]] ## get( paste0(p_name, \\\"_input_lt\\\" ) , sol_env)\"\n",
      "[1] \"    test_pass <- rep(FALSE, length(input_case_lt))\"\n",
      "[1] \"    ram_used <- 0\"\n",
      "[1] \"    total_run_time_sec <- 0\"\n",
      "[1] \"    print(paste0(\\\"Evaluatiing \\\", p_name))\"\n",
      "[1] \"    for (i in 1:length(input_case_lt)) {\"\n",
      "[1] \"        case <- input_case_lt[[i]]\"\n",
      "[1] \"        case_ram <- 1e8 # large number\"\n",
      "[1] \"        total_run_time_sec <- total_run_time_sec + system.time({\"\n",
      "[1] \"            setTimeLimit(60) # 10 seconds running time limit\"\n",
      "[1] \"            case_ram <- peakRAM(re <- sub_fun(case))[4]\"\n",
      "[1] \"        })[3]\"\n",
      "[1] \"        ram_used <- ram_used + case_ram\"\n",
      "[1] \"        val_comp <- all.equal(sol_fun(case), re)\"\n",
      "[1] \"        val_comp <- ifelse(is.logical(val_comp), val_comp, FALSE)\"\n",
      "[1] \"        test_pass[i] <- val_comp\"\n",
      "[1] \"    }\"\n",
      "[1] \"    gc_re <- gc(verbose = FALSE, reset = FALSE)\"\n",
      "[1] \"    prob_ram <- gc_re[1, 6] + gc_re[2, 6]\"\n",
      "[1] \"    re_line <- paste(author, p_name, mean(test_pass), ram_used + prob_ram, total_run_time_sec + loading_time_sec, sep = \\\",\\\")\"\n",
      "[1] \"    print(re_line)\"\n",
      "[1] \"    cat(paste0(re_line, \\\"\\\\n\\\"), file = output_file_name, append = TRUE)\"\n",
      "[1] \"}\"\n"
     ]
    }
   ],
   "source": [
    "print_text_file(\"score_sub.R\")"
   ]
  },
  {
   "cell_type": "code",
   "execution_count": 45,
   "metadata": {},
   "outputs": [
    {
     "name": "stdout",
     "output_type": "stream",
     "text": [
      "[1] \"n_dna <- function(n) {\"\n",
      "[1] \"    return((n + 1) * (n + 2) * (n + 3) / 6)\"\n",
      "[1] \"}\"\n",
      "[1] \"\"\n",
      "[1] \"\"\n",
      "[1] \"n_dna_input_lt <- as.list(2:20)\"\n"
     ]
    }
   ],
   "source": [
    "print_text_file(\"dna_solution.R\")"
   ]
  },
  {
   "cell_type": "markdown",
   "metadata": {},
   "source": [
    "## Run"
   ]
  },
  {
   "cell_type": "code",
   "execution_count": 37,
   "metadata": {},
   "outputs": [],
   "source": [
    "# % zsh run_autograder.sh                                                     ✹ ✭\n",
    "# [1] \"Student1\"\n",
    "# [1] \"Evaluatiing n_dna\"\n",
    "# [1] \"Student1,n_dna,1,23.5,1.119\"\n",
    "# [1] \"student2\"\n",
    "# [1] \"Evaluatiing n_dna\"\n",
    "# [1] \"student2,n_dna,0.0526315789473684,24.3,1.169\"\n",
    "# [1] \"student3\"\n",
    "# [1] \"Evaluatiing n_dna\"\n",
    "# Error: evaluation nested too deeply: infinite recursion / options(expressions=)?\n",
    "# Timing stopped at: 0.016 0.001 0.016\n",
    "# Timing stopped at: 0.054 0.001 0.055\n",
    "# Execution halted\n",
    "# [1] \"student4\"\n",
    "# [1] \"Evaluatiing n_dna\"\n",
    "# [1] \"student4,n_dna,1,23.6,1.116\"\n",
    "# [1] \"student5\"\n",
    "# [1] \"Evaluatiing n_dna\"\n",
    "# [1] \"student5,n_dna,1,23.5,1.109\""
   ]
  },
  {
   "cell_type": "markdown",
   "metadata": {},
   "source": [
    "## Check output "
   ]
  },
  {
   "cell_type": "code",
   "execution_count": 41,
   "metadata": {},
   "outputs": [
    {
     "data": {
      "text/html": [
       "<table>\n",
       "<caption>A data.frame: 4 × 5</caption>\n",
       "<thead>\n",
       "\t<tr><th scope=col>name</th><th scope=col>function</th><th scope=col>accuracy</th><th scope=col>mem</th><th scope=col>time</th></tr>\n",
       "\t<tr><th scope=col>&lt;chr&gt;</th><th scope=col>&lt;chr&gt;</th><th scope=col>&lt;dbl&gt;</th><th scope=col>&lt;dbl&gt;</th><th scope=col>&lt;dbl&gt;</th></tr>\n",
       "</thead>\n",
       "<tbody>\n",
       "\t<tr><td>Student1</td><td>n_dna</td><td>1.00000000</td><td>23.5</td><td>1.119</td></tr>\n",
       "\t<tr><td>student2</td><td>n_dna</td><td>0.05263158</td><td>24.3</td><td>1.169</td></tr>\n",
       "\t<tr><td>student4</td><td>n_dna</td><td>1.00000000</td><td>23.6</td><td>1.116</td></tr>\n",
       "\t<tr><td>student5</td><td>n_dna</td><td>1.00000000</td><td>23.5</td><td>1.109</td></tr>\n",
       "</tbody>\n",
       "</table>\n"
      ],
      "text/latex": [
       "A data.frame: 4 × 5\n",
       "\\begin{tabular}{lllll}\n",
       " name & function & accuracy & mem & time\\\\\n",
       " <chr> & <chr> & <dbl> & <dbl> & <dbl>\\\\\n",
       "\\hline\n",
       "\t Student1 & n\\_dna & 1.00000000 & 23.5 & 1.119\\\\\n",
       "\t student2 & n\\_dna & 0.05263158 & 24.3 & 1.169\\\\\n",
       "\t student4 & n\\_dna & 1.00000000 & 23.6 & 1.116\\\\\n",
       "\t student5 & n\\_dna & 1.00000000 & 23.5 & 1.109\\\\\n",
       "\\end{tabular}\n"
      ],
      "text/markdown": [
       "\n",
       "A data.frame: 4 × 5\n",
       "\n",
       "| name &lt;chr&gt; | function &lt;chr&gt; | accuracy &lt;dbl&gt; | mem &lt;dbl&gt; | time &lt;dbl&gt; |\n",
       "|---|---|---|---|---|\n",
       "| Student1 | n_dna | 1.00000000 | 23.5 | 1.119 |\n",
       "| student2 | n_dna | 0.05263158 | 24.3 | 1.169 |\n",
       "| student4 | n_dna | 1.00000000 | 23.6 | 1.116 |\n",
       "| student5 | n_dna | 1.00000000 | 23.5 | 1.109 |\n",
       "\n"
      ],
      "text/plain": [
       "  name     function accuracy   mem  time \n",
       "1 Student1 n_dna    1.00000000 23.5 1.119\n",
       "2 student2 n_dna    0.05263158 24.3 1.169\n",
       "3 student4 n_dna    1.00000000 23.6 1.116\n",
       "4 student5 n_dna    1.00000000 23.5 1.109"
      ]
     },
     "metadata": {},
     "output_type": "display_data"
    }
   ],
   "source": [
    "re <- read.csv(\"autograder_result.csv\", header = FALSE)\n",
    "names(re) <- c(\"name\", \"function\", \"accuracy\", \"mem\", \"time\")\n",
    "re"
   ]
  }
 ],
 "metadata": {
  "kernelspec": {
   "display_name": "R",
   "language": "R",
   "name": "ir"
  },
  "language_info": {
   "codemirror_mode": "r",
   "file_extension": ".r",
   "mimetype": "text/x-r-source",
   "name": "R",
   "pygments_lexer": "r",
   "version": "4.0.3"
  },
  "toc": {
   "base_numbering": 1,
   "nav_menu": {},
   "number_sections": true,
   "sideBar": true,
   "skip_h1_title": false,
   "title_cell": "Table of Contents",
   "title_sidebar": "Contents",
   "toc_cell": false,
   "toc_position": {},
   "toc_section_display": true,
   "toc_window_display": false
  }
 },
 "nbformat": 4,
 "nbformat_minor": 4
}
