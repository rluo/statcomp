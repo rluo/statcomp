{
 "cells": [
  {
   "cell_type": "markdown",
   "metadata": {},
   "source": [
    "# R Implementation of ADMM"
   ]
  },
  {
   "cell_type": "markdown",
   "metadata": {},
   "source": [
    "The R package file is available on Canvas."
   ]
  },
  {
   "cell_type": "code",
   "execution_count": 2,
   "metadata": {},
   "outputs": [],
   "source": [
    "library(admmlasso)"
   ]
  },
  {
   "cell_type": "code",
   "execution_count": 4,
   "metadata": {},
   "outputs": [],
   "source": [
    "lasso_obj <- function(X, y, beta, lambda) {\n",
    "    (1/2)*(1/length(y))*norm(y - X%*%beta,\"F\")^2 + lambda*sum(abs(beta))\n",
    "}"
   ]
  },
  {
   "cell_type": "code",
   "execution_count": 3,
   "metadata": {},
   "outputs": [],
   "source": [
    "set.seed(100)\n",
    "n <- 50\n",
    "p <- 400\n",
    "X <- matrix(rnorm(n*p), n, p)\n",
    "b <- rep(0, 400)\n",
    "b[301:305] <- c(5:1)*2\n",
    "y <-  X%*%b + rnorm(n)\n",
    "ynew <-  X%*%b + rnorm(n)    "
   ]
  },
  {
   "cell_type": "code",
   "execution_count": 5,
   "metadata": {},
   "outputs": [
    {
     "name": "stderr",
     "output_type": "stream",
     "text": [
      "Loading required package: Matrix\n",
      "\n",
      "Warning message:\n",
      "“package ‘Matrix’ was built under R version 4.0.5”\n",
      "Loaded glmnet 4.1-3\n",
      "\n"
     ]
    },
    {
     "data": {
      "text/plain": [
       "   user  system elapsed \n",
       "  0.007   0.001   0.007 "
      ]
     },
     "metadata": {},
     "output_type": "display_data"
    }
   ],
   "source": [
    "library(glmnet) \n",
    "system.time( fit <- glmnet(X, y, intercept=F, standardize=F, lambda=1) )"
   ]
  },
  {
   "cell_type": "code",
   "execution_count": 39,
   "metadata": {},
   "outputs": [
    {
     "data": {
      "text/plain": [
       "   user  system elapsed \n",
       "  0.250   0.008   0.257 "
      ]
     },
     "metadata": {},
     "output_type": "display_data"
    }
   ],
   "source": [
    "system.time( re <- admmLasso(X, y,  1.0 * n, tol = 1e-8) ) "
   ]
  },
  {
   "cell_type": "markdown",
   "metadata": {},
   "source": [
    "Faster than the CD algorithm"
   ]
  },
  {
   "cell_type": "markdown",
   "metadata": {},
   "source": [
    "## Note"
   ]
  },
  {
   "cell_type": "markdown",
   "metadata": {},
   "source": [
    "The objective function solved in ``admmLasso`` is the glmnet objective function ``lasso_obj`` times ``length(y)``. Therefore, ``tau`` should be multiplied by ``n`` in the above to solve the same objective function."
   ]
  },
  {
   "cell_type": "markdown",
   "metadata": {},
   "source": [
    "## Comparison"
   ]
  },
  {
   "cell_type": "code",
   "execution_count": 40,
   "metadata": {},
   "outputs": [],
   "source": [
    "beta_glmnet <- as.numeric(coef(fit)[-1] )"
   ]
  },
  {
   "cell_type": "code",
   "execution_count": 41,
   "metadata": {},
   "outputs": [
    {
     "data": {
      "text/html": [
       "0.00197938493450867"
      ],
      "text/latex": [
       "0.00197938493450867"
      ],
      "text/markdown": [
       "0.00197938493450867"
      ],
      "text/plain": [
       "[1] 0.001979385"
      ]
     },
     "metadata": {},
     "output_type": "display_data"
    }
   ],
   "source": [
    "max( abs( beta_glmnet - re )  ) "
   ]
  },
  {
   "cell_type": "code",
   "execution_count": 42,
   "metadata": {},
   "outputs": [
    {
     "data": {
      "text/html": [
       "26.0169477346224"
      ],
      "text/latex": [
       "26.0169477346224"
      ],
      "text/markdown": [
       "26.0169477346224"
      ],
      "text/plain": [
       "[1] 26.01695"
      ]
     },
     "metadata": {},
     "output_type": "display_data"
    }
   ],
   "source": [
    "lasso_obj(X, y, beta_glmnet, 1.0)"
   ]
  },
  {
   "cell_type": "code",
   "execution_count": 43,
   "metadata": {},
   "outputs": [
    {
     "data": {
      "text/html": [
       "26.0169450885102"
      ],
      "text/latex": [
       "26.0169450885102"
      ],
      "text/markdown": [
       "26.0169450885102"
      ],
      "text/plain": [
       "[1] 26.01695"
      ]
     },
     "metadata": {},
     "output_type": "display_data"
    }
   ],
   "source": [
    "lasso_obj(X, y, re, 1.0)"
   ]
  },
  {
   "cell_type": "code",
   "execution_count": 58,
   "metadata": {},
   "outputs": [
    {
     "data": {
      "text/html": [
       "-2.6461121791499e-06"
      ],
      "text/latex": [
       "-2.6461121791499e-06"
      ],
      "text/markdown": [
       "-2.6461121791499e-06"
      ],
      "text/plain": [
       "[1] -2.646112e-06"
      ]
     },
     "metadata": {},
     "output_type": "display_data"
    }
   ],
   "source": [
    "lasso_obj(X, y, re, 1.0)  - lasso_obj(X, y, beta_glmnet, 1.0)"
   ]
  },
  {
   "cell_type": "markdown",
   "metadata": {},
   "source": [
    "# RcppArmadillo"
   ]
  },
  {
   "cell_type": "markdown",
   "metadata": {},
   "source": [
    "The CPP source file is available on Canvas."
   ]
  },
  {
   "cell_type": "code",
   "execution_count": 45,
   "metadata": {},
   "outputs": [],
   "source": [
    "library(Rcpp)\n",
    "library(RcppArmadillo)"
   ]
  },
  {
   "cell_type": "code",
   "execution_count": 48,
   "metadata": {},
   "outputs": [],
   "source": [
    "sourceCpp(\"admm_lasso.cpp\")"
   ]
  },
  {
   "cell_type": "code",
   "execution_count": 65,
   "metadata": {},
   "outputs": [
    {
     "data": {
      "text/plain": [
       "   user  system elapsed \n",
       "  0.085   0.000   0.085 "
      ]
     },
     "metadata": {},
     "output_type": "display_data"
    }
   ],
   "source": [
    "system.time( beta_cpp <- admm_lasso(X, y, 1.0 * n, 1000, 1e-5) )"
   ]
  },
  {
   "cell_type": "code",
   "execution_count": 66,
   "metadata": {},
   "outputs": [
    {
     "data": {
      "text/html": [
       "0.00200080804562308"
      ],
      "text/latex": [
       "0.00200080804562308"
      ],
      "text/markdown": [
       "0.00200080804562308"
      ],
      "text/plain": [
       "[1] 0.002000808"
      ]
     },
     "metadata": {},
     "output_type": "display_data"
    }
   ],
   "source": [
    "max( abs( beta_glmnet - beta_cpp )  ) "
   ]
  },
  {
   "cell_type": "code",
   "execution_count": 62,
   "metadata": {},
   "outputs": [
    {
     "data": {
      "text/html": [
       "26.0169452397166"
      ],
      "text/latex": [
       "26.0169452397166"
      ],
      "text/markdown": [
       "26.0169452397166"
      ],
      "text/plain": [
       "[1] 26.01695"
      ]
     },
     "metadata": {},
     "output_type": "display_data"
    }
   ],
   "source": [
    "lasso_obj(X, y, beta_cpp, 1.0)"
   ]
  },
  {
   "cell_type": "code",
   "execution_count": 63,
   "metadata": {},
   "outputs": [
    {
     "data": {
      "text/html": [
       "-2.49490580017664e-06"
      ],
      "text/latex": [
       "-2.49490580017664e-06"
      ],
      "text/markdown": [
       "-2.49490580017664e-06"
      ],
      "text/plain": [
       "[1] -2.494906e-06"
      ]
     },
     "metadata": {},
     "output_type": "display_data"
    }
   ],
   "source": [
    "lasso_obj(X, y,  beta_cpp, 1.0)  - lasso_obj(X, y, beta_glmnet, 1.0)"
   ]
  },
  {
   "cell_type": "markdown",
   "metadata": {},
   "source": [
    "**Note**: the compiler is not optimized using clang. If using GCC for compiling in **docker**, the *admm_lasso* CPP implementation is actually faster than *glmnet*. See our [slides](https://lovedatascience.com/statcomp/cpp.html)."
   ]
  },
  {
   "cell_type": "code",
   "execution_count": null,
   "metadata": {},
   "outputs": [],
   "source": []
  }
 ],
 "metadata": {
  "kernelspec": {
   "display_name": "R",
   "language": "R",
   "name": "ir"
  },
  "language_info": {
   "codemirror_mode": "r",
   "file_extension": ".r",
   "mimetype": "text/x-r-source",
   "name": "R",
   "pygments_lexer": "r",
   "version": "4.0.3"
  },
  "toc": {
   "base_numbering": 1,
   "nav_menu": {},
   "number_sections": true,
   "sideBar": true,
   "skip_h1_title": false,
   "title_cell": "Table of Contents",
   "title_sidebar": "Contents",
   "toc_cell": false,
   "toc_position": {},
   "toc_section_display": true,
   "toc_window_display": false
  }
 },
 "nbformat": 4,
 "nbformat_minor": 4
}
