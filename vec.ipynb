{
 "cells": [
  {
   "cell_type": "code",
   "execution_count": 1,
   "metadata": {},
   "outputs": [],
   "source": [
    "library(lobstr)"
   ]
  },
  {
   "cell_type": "markdown",
   "metadata": {},
   "source": [
    "# Memory"
   ]
  },
  {
   "cell_type": "code",
   "execution_count": 2,
   "metadata": {},
   "outputs": [],
   "source": [
    "x <- 1:1e8"
   ]
  },
  {
   "cell_type": "code",
   "execution_count": 3,
   "metadata": {},
   "outputs": [
    {
     "data": {
      "text/plain": [
       "400000048 bytes"
      ]
     },
     "metadata": {},
     "output_type": "display_data"
    },
    {
     "data": {
      "text/html": [
       "'0x7fb12acb3510'"
      ],
      "text/latex": [
       "'0x7fb12acb3510'"
      ],
      "text/markdown": [
       "'0x7fb12acb3510'"
      ],
      "text/plain": [
       "[1] \"0x7fb12acb3510\""
      ]
     },
     "metadata": {},
     "output_type": "display_data"
    }
   ],
   "source": [
    "object.size(x)\n",
    "obj_addr(x)"
   ]
  },
  {
   "cell_type": "code",
   "execution_count": 4,
   "metadata": {},
   "outputs": [],
   "source": [
    "y <- c(x,x)"
   ]
  },
  {
   "cell_type": "code",
   "execution_count": 5,
   "metadata": {},
   "outputs": [
    {
     "data": {
      "text/plain": [
       "800000048 bytes"
      ]
     },
     "metadata": {},
     "output_type": "display_data"
    },
    {
     "data": {
      "text/html": [
       "'0x7fb0d8f00000'"
      ],
      "text/latex": [
       "'0x7fb0d8f00000'"
      ],
      "text/markdown": [
       "'0x7fb0d8f00000'"
      ],
      "text/plain": [
       "[1] \"0x7fb0d8f00000\""
      ]
     },
     "metadata": {},
     "output_type": "display_data"
    }
   ],
   "source": [
    "object.size(y)\n",
    "obj_addr(y)"
   ]
  },
  {
   "cell_type": "code",
   "execution_count": 6,
   "metadata": {},
   "outputs": [],
   "source": [
    "z <- x"
   ]
  },
  {
   "cell_type": "code",
   "execution_count": 7,
   "metadata": {},
   "outputs": [
    {
     "data": {
      "text/plain": [
       "400000048 bytes"
      ]
     },
     "metadata": {},
     "output_type": "display_data"
    },
    {
     "data": {
      "text/html": [
       "'0x7fb12acb3510'"
      ],
      "text/latex": [
       "'0x7fb12acb3510'"
      ],
      "text/markdown": [
       "'0x7fb12acb3510'"
      ],
      "text/plain": [
       "[1] \"0x7fb12acb3510\""
      ]
     },
     "metadata": {},
     "output_type": "display_data"
    }
   ],
   "source": [
    "object.size(z)\n",
    "obj_addr(z)"
   ]
  },
  {
   "cell_type": "code",
   "execution_count": 118,
   "metadata": {},
   "outputs": [
    {
     "data": {
      "text/html": [
       "'0x7fb109d57e28'"
      ],
      "text/latex": [
       "'0x7fb109d57e28'"
      ],
      "text/markdown": [
       "'0x7fb109d57e28'"
      ],
      "text/plain": [
       "[1] \"0x7fb109d57e28\""
      ]
     },
     "metadata": {},
     "output_type": "display_data"
    },
    {
     "data": {
      "text/html": [
       "'0x7fb109d57e28'"
      ],
      "text/latex": [
       "'0x7fb109d57e28'"
      ],
      "text/markdown": [
       "'0x7fb109d57e28'"
      ],
      "text/plain": [
       "[1] \"0x7fb109d57e28\""
      ]
     },
     "metadata": {},
     "output_type": "display_data"
    }
   ],
   "source": [
    "x <- c(1, 2, 3)\n",
    "y <- x\n",
    "obj_addr(x)\n",
    "obj_addr(y)"
   ]
  },
  {
   "cell_type": "markdown",
   "metadata": {},
   "source": [
    "# Memory Address Change"
   ]
  },
  {
   "cell_type": "code",
   "execution_count": 120,
   "metadata": {},
   "outputs": [
    {
     "name": "stdout",
     "output_type": "stream",
     "text": [
      "<0x7fb0ec3a2000> \n"
     ]
    }
   ],
   "source": [
    "x <- (1:1e7)/1e8\n",
    "cat(tracemem(x), \"\\n\")\n",
    "y <- x"
   ]
  },
  {
   "cell_type": "code",
   "execution_count": 121,
   "metadata": {},
   "outputs": [
    {
     "data": {
      "text/html": [
       "'&lt;0x7fb0ec3a2000&gt;'"
      ],
      "text/latex": [
       "'<0x7fb0ec3a2000>'"
      ],
      "text/markdown": [
       "'&lt;0x7fb0ec3a2000&gt;'"
      ],
      "text/plain": [
       "[1] \"<0x7fb0ec3a2000>\""
      ]
     },
     "metadata": {},
     "output_type": "display_data"
    },
    {
     "name": "stdout",
     "output_type": "stream",
     "text": [
      "tracemem[0x7fb0ec3a2000 -> 0x7fb0e2b0a000]: eval eval eval_with_user_handlers withVisible withCallingHandlers doTryCatch tryCatchOne tryCatchList tryCatch try handle timing_fn evaluate_call evaluate doTryCatch tryCatchOne tryCatchList doTryCatch tryCatchOne tryCatchList tryCatch <Anonymous> handle_shell <Anonymous> <Anonymous> \n"
     ]
    }
   ],
   "source": [
    "tracemem(y)\n",
    "y[1] <- 1.0"
   ]
  },
  {
   "cell_type": "code",
   "execution_count": 122,
   "metadata": {},
   "outputs": [],
   "source": [
    "y[1] <- 2.0"
   ]
  },
  {
   "cell_type": "code",
   "execution_count": 123,
   "metadata": {},
   "outputs": [
    {
     "data": {
      "text/html": [
       "'0x7fb0e2b0a000'"
      ],
      "text/latex": [
       "'0x7fb0e2b0a000'"
      ],
      "text/markdown": [
       "'0x7fb0e2b0a000'"
      ],
      "text/plain": [
       "[1] \"0x7fb0e2b0a000\""
      ]
     },
     "metadata": {},
     "output_type": "display_data"
    }
   ],
   "source": [
    "obj_addr(y)"
   ]
  },
  {
   "cell_type": "code",
   "execution_count": 59,
   "metadata": {},
   "outputs": [
    {
     "data": {
      "text/html": [
       "'0x7fb0f5c3a000'"
      ],
      "text/latex": [
       "'0x7fb0f5c3a000'"
      ],
      "text/markdown": [
       "'0x7fb0f5c3a000'"
      ],
      "text/plain": [
       "[1] \"0x7fb0f5c3a000\""
      ]
     },
     "metadata": {},
     "output_type": "display_data"
    },
    {
     "data": {
      "text/plain": [
       "80,000,048 B"
      ]
     },
     "metadata": {},
     "output_type": "display_data"
    }
   ],
   "source": [
    "x <- (1:1e7)/1e8\n",
    "obj_addr(x)\n",
    "obj_sizes(x)"
   ]
  },
  {
   "cell_type": "code",
   "execution_count": 60,
   "metadata": {},
   "outputs": [
    {
     "data": {
      "text/html": [
       "'0x7fb0ec3a2000'"
      ],
      "text/latex": [
       "'0x7fb0ec3a2000'"
      ],
      "text/markdown": [
       "'0x7fb0ec3a2000'"
      ],
      "text/plain": [
       "[1] \"0x7fb0ec3a2000\""
      ]
     },
     "metadata": {},
     "output_type": "display_data"
    },
    {
     "data": {
      "text/html": [
       "'numeric'"
      ],
      "text/latex": [
       "'numeric'"
      ],
      "text/markdown": [
       "'numeric'"
      ],
      "text/plain": [
       "[1] \"numeric\""
      ]
     },
     "metadata": {},
     "output_type": "display_data"
    }
   ],
   "source": [
    "x[1] = 1.1\n",
    "obj_addr(x)\n",
    "mode(x)"
   ]
  },
  {
   "cell_type": "code",
   "execution_count": 117,
   "metadata": {},
   "outputs": [
    {
     "data": {
      "text/html": [
       "'0x7fb0f5c3a000'"
      ],
      "text/latex": [
       "'0x7fb0f5c3a000'"
      ],
      "text/markdown": [
       "'0x7fb0f5c3a000'"
      ],
      "text/plain": [
       "[1] \"0x7fb0f5c3a000\""
      ]
     },
     "metadata": {},
     "output_type": "display_data"
    },
    {
     "data": {
      "text/plain": [
       "80,000,048 B"
      ]
     },
     "metadata": {},
     "output_type": "display_data"
    },
    {
     "data": {
      "text/html": [
       "'0x7fb0f5c3a000'"
      ],
      "text/latex": [
       "'0x7fb0f5c3a000'"
      ],
      "text/markdown": [
       "'0x7fb0f5c3a000'"
      ],
      "text/plain": [
       "[1] \"0x7fb0f5c3a000\""
      ]
     },
     "metadata": {},
     "output_type": "display_data"
    },
    {
     "data": {
      "text/plain": [
       "80,000,048 B"
      ]
     },
     "metadata": {},
     "output_type": "display_data"
    }
   ],
   "source": [
    "x <- (1:1e7)/1e8\n",
    "obj_addr(x)\n",
    "obj_sizes(x)\n",
    "y <- x\n",
    "obj_addr(y)\n",
    "obj_sizes(y)"
   ]
  },
  {
   "cell_type": "markdown",
   "metadata": {},
   "source": [
    "## integer"
   ]
  },
  {
   "cell_type": "code",
   "execution_count": 108,
   "metadata": {},
   "outputs": [
    {
     "data": {
      "text/html": [
       "'0x7fb09ce26000'"
      ],
      "text/latex": [
       "'0x7fb09ce26000'"
      ],
      "text/markdown": [
       "'0x7fb09ce26000'"
      ],
      "text/plain": [
       "[1] \"0x7fb09ce26000\""
      ]
     },
     "metadata": {},
     "output_type": "display_data"
    },
    {
     "data": {
      "text/plain": [
       "40,000,048 B"
      ]
     },
     "metadata": {},
     "output_type": "display_data"
    }
   ],
   "source": [
    "a <- sample.int(1e7)\n",
    "obj_addr(a)\n",
    "obj_size(a)"
   ]
  },
  {
   "cell_type": "code",
   "execution_count": 109,
   "metadata": {},
   "outputs": [
    {
     "data": {
      "text/html": [
       "<style>\n",
       ".list-inline {list-style: none; margin:0; padding: 0}\n",
       ".list-inline>li {display: inline-block}\n",
       ".list-inline>li:not(:last-child)::after {content: \"\\00b7\"; padding: 0 .5ex}\n",
       "</style>\n",
       "<ol class=list-inline><li>7732226</li><li>8664275</li><li>8340058</li><li>2496231</li><li>5723833</li></ol>\n"
      ],
      "text/latex": [
       "\\begin{enumerate*}\n",
       "\\item 7732226\n",
       "\\item 8664275\n",
       "\\item 8340058\n",
       "\\item 2496231\n",
       "\\item 5723833\n",
       "\\end{enumerate*}\n"
      ],
      "text/markdown": [
       "1. 7732226\n",
       "2. 8664275\n",
       "3. 8340058\n",
       "4. 2496231\n",
       "5. 5723833\n",
       "\n",
       "\n"
      ],
      "text/plain": [
       "[1] 7732226 8664275 8340058 2496231 5723833"
      ]
     },
     "metadata": {},
     "output_type": "display_data"
    }
   ],
   "source": [
    "a[1:5]"
   ]
  },
  {
   "cell_type": "code",
   "execution_count": 110,
   "metadata": {},
   "outputs": [
    {
     "data": {
      "text/html": [
       "'0x7fb069100000'"
      ],
      "text/latex": [
       "'0x7fb069100000'"
      ],
      "text/markdown": [
       "'0x7fb069100000'"
      ],
      "text/plain": [
       "[1] \"0x7fb069100000\""
      ]
     },
     "metadata": {},
     "output_type": "display_data"
    },
    {
     "data": {
      "text/plain": [
       "40,000,048 B"
      ]
     },
     "metadata": {},
     "output_type": "display_data"
    }
   ],
   "source": [
    "a[1] = 1L\n",
    "obj_addr(a)\n",
    "obj_size(a)"
   ]
  },
  {
   "cell_type": "code",
   "execution_count": 111,
   "metadata": {},
   "outputs": [
    {
     "data": {
      "text/html": [
       "'0x7fb06b726000'"
      ],
      "text/latex": [
       "'0x7fb06b726000'"
      ],
      "text/markdown": [
       "'0x7fb06b726000'"
      ],
      "text/plain": [
       "[1] \"0x7fb06b726000\""
      ]
     },
     "metadata": {},
     "output_type": "display_data"
    }
   ],
   "source": [
    "a[1] = 2L\n",
    "obj_addr(a)"
   ]
  },
  {
   "cell_type": "code",
   "execution_count": 112,
   "metadata": {},
   "outputs": [
    {
     "data": {
      "text/html": [
       "'0x7fb06b726000'"
      ],
      "text/latex": [
       "'0x7fb06b726000'"
      ],
      "text/markdown": [
       "'0x7fb06b726000'"
      ],
      "text/plain": [
       "[1] \"0x7fb06b726000\""
      ]
     },
     "metadata": {},
     "output_type": "display_data"
    },
    {
     "data": {
      "text/plain": [
       "40,000,048 B"
      ]
     },
     "metadata": {},
     "output_type": "display_data"
    }
   ],
   "source": [
    "a[1] = 5L\n",
    "obj_addr(a)\n",
    "obj_size(a)"
   ]
  },
  {
   "cell_type": "code",
   "execution_count": 113,
   "metadata": {},
   "outputs": [
    {
     "data": {
      "text/html": [
       "<style>\n",
       ".list-inline {list-style: none; margin:0; padding: 0}\n",
       ".list-inline>li {display: inline-block}\n",
       ".list-inline>li:not(:last-child)::after {content: \"\\00b7\"; padding: 0 .5ex}\n",
       "</style>\n",
       "<ol class=list-inline><li>5</li><li>8664275</li><li>8340058</li><li>2496231</li><li>5723833</li></ol>\n"
      ],
      "text/latex": [
       "\\begin{enumerate*}\n",
       "\\item 5\n",
       "\\item 8664275\n",
       "\\item 8340058\n",
       "\\item 2496231\n",
       "\\item 5723833\n",
       "\\end{enumerate*}\n"
      ],
      "text/markdown": [
       "1. 5\n",
       "2. 8664275\n",
       "3. 8340058\n",
       "4. 2496231\n",
       "5. 5723833\n",
       "\n",
       "\n"
      ],
      "text/plain": [
       "[1]       5 8664275 8340058 2496231 5723833"
      ]
     },
     "metadata": {},
     "output_type": "display_data"
    }
   ],
   "source": [
    "a[1:5]"
   ]
  },
  {
   "cell_type": "code",
   "execution_count": 114,
   "metadata": {},
   "outputs": [
    {
     "data": {
      "text/html": [
       "'0x7fb069100000'"
      ],
      "text/latex": [
       "'0x7fb069100000'"
      ],
      "text/markdown": [
       "'0x7fb069100000'"
      ],
      "text/plain": [
       "[1] \"0x7fb069100000\""
      ]
     },
     "metadata": {},
     "output_type": "display_data"
    }
   ],
   "source": [
    "a[2]=100L\n",
    "obj_addr(a)"
   ]
  },
  {
   "cell_type": "code",
   "execution_count": 115,
   "metadata": {},
   "outputs": [
    {
     "data": {
      "text/html": [
       "'0x7fb069100000'"
      ],
      "text/latex": [
       "'0x7fb069100000'"
      ],
      "text/markdown": [
       "'0x7fb069100000'"
      ],
      "text/plain": [
       "[1] \"0x7fb069100000\""
      ]
     },
     "metadata": {},
     "output_type": "display_data"
    }
   ],
   "source": [
    "a[3]=1000L\n",
    "obj_addr(a)"
   ]
  },
  {
   "cell_type": "code",
   "execution_count": 116,
   "metadata": {},
   "outputs": [
    {
     "data": {
      "text/html": [
       "'0x7fb0f0fee000'"
      ],
      "text/latex": [
       "'0x7fb0f0fee000'"
      ],
      "text/markdown": [
       "'0x7fb0f0fee000'"
      ],
      "text/plain": [
       "[1] \"0x7fb0f0fee000\""
      ]
     },
     "metadata": {},
     "output_type": "display_data"
    }
   ],
   "source": [
    "# however, assigning to a non-integer value will change the address\n",
    "# add L if you want to specify integer values\n",
    "a[3]=1000\n",
    "obj_addr(a)"
   ]
  },
  {
   "cell_type": "markdown",
   "metadata": {},
   "source": [
    "# Speed"
   ]
  },
  {
   "cell_type": "code",
   "execution_count": 5,
   "metadata": {},
   "outputs": [
    {
     "data": {
      "text/plain": [
       "   user  system elapsed \n",
       "  0.129   0.070   0.200 "
      ]
     },
     "metadata": {},
     "output_type": "display_data"
    }
   ],
   "source": [
    "n <- 1e4\n",
    "system.time({\n",
    "    r <- NULL;\n",
    "    for (i in 1:n) {\n",
    "        r <- c(r, i)\n",
    "    }\n",
    "    r\n",
    "})"
   ]
  },
  {
   "cell_type": "code",
   "execution_count": 6,
   "metadata": {},
   "outputs": [
    {
     "data": {
      "text/plain": [
       "   user  system elapsed \n",
       "  0.003   0.000   0.002 "
      ]
     },
     "metadata": {},
     "output_type": "display_data"
    }
   ],
   "source": [
    "system.time({\n",
    "    r <- numeric(n) ## pre-allocation\n",
    "    for (i in 1:n) {\n",
    "        r[i] <- i\n",
    "    }\n",
    "    r\n",
    "})"
   ]
  },
  {
   "cell_type": "code",
   "execution_count": 7,
   "metadata": {},
   "outputs": [
    {
     "data": {
      "text/plain": [
       "   user  system elapsed \n",
       "  0.006   0.000   0.005 "
      ]
     },
     "metadata": {},
     "output_type": "display_data"
    }
   ],
   "source": [
    "system.time(sapply(1:n, function(j) j))"
   ]
  },
  {
   "cell_type": "code",
   "execution_count": 8,
   "metadata": {},
   "outputs": [
    {
     "data": {
      "text/plain": [
       "   user  system elapsed \n",
       "      0       0       0 "
      ]
     },
     "metadata": {},
     "output_type": "display_data"
    }
   ],
   "source": [
    "system.time(r <- seq(n))"
   ]
  }
 ],
 "metadata": {
  "kernelspec": {
   "display_name": "R",
   "language": "R",
   "name": "ir"
  },
  "language_info": {
   "codemirror_mode": "r",
   "file_extension": ".r",
   "mimetype": "text/x-r-source",
   "name": "R",
   "pygments_lexer": "r",
   "version": "4.0.3"
  },
  "toc": {
   "base_numbering": 1,
   "nav_menu": {},
   "number_sections": true,
   "sideBar": true,
   "skip_h1_title": false,
   "title_cell": "Table of Contents",
   "title_sidebar": "Contents",
   "toc_cell": false,
   "toc_position": {},
   "toc_section_display": true,
   "toc_window_display": false
  }
 },
 "nbformat": 4,
 "nbformat_minor": 4
}
